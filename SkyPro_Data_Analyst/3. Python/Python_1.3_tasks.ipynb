{
 "cells": [
  {
   "cell_type": "markdown",
   "metadata": {
    "id": "dZ_yqwGoJeNq"
   },
   "source": [
    "<div class=\"alert alert-block alert-success\"> \n",
    "<h1>Задания 1.3</h1>\n",
    "</div>"
   ]
  },
  {
   "cell_type": "markdown",
   "metadata": {
    "id": "ENHb2SxEaTho"
   },
   "source": [
    "В компаниях много разных заказчиков данных: сотрудники разного уровня, с разными доступами, из разных департаментов. Чтобы каждый получал нужные данные вовремя, нужно настраивать систему автоматической отчетности. В этом домашнем задании разберемся, как к такой задаче можно подойти с помощью Python. \n",
    "\n",
    "## Что нужно сделать?\n",
    "\n",
    "Необходимо настроить в компании репортинг ключевых показателей бизнеса таким образом, чтобы каждый сотрудник получал регулярный отчет только по тем метрикам, которые важны для его работы и доступны на его должности.\n",
    "\n",
    "Для начала изучим, какие данные нам доступны:"
   ]
  },
  {
   "cell_type": "code",
   "execution_count": 1,
   "metadata": {
    "id": "IwtYCW_DaTh3"
   },
   "outputs": [],
   "source": [
    "staff = { #  словарь со списком сотрудников компании и их должностями\n",
    "    'Ирина':'Customer Support',\n",
    "    'Иван':'Customer Support',\n",
    "    'Дмитрий':'Marketing',\n",
    "    'Ольга':'CPO',\n",
    "    'Анастасия':'Sales',\n",
    "    'Александр':'Sales',\n",
    "}\n",
    "\n",
    "metrics = { #  словарь со списком ключевых показателей бизнеса, которые необходимы и доступны для каждой должности\n",
    "    'Customer Support': ['Retention', 'MAU',],\n",
    "    'Sales': ['New Users',],\n",
    "    'Marketing': ['New Orders',],\n",
    "    'CPO': ['Retention', 'MAU','New Users','New Orders', 'C1'], # как видите, директор по продукту следит за всеми метриками!  \n",
    "    'Intern': ['Retention', 'New Users','New Orders']\n",
    "}\n",
    "\n",
    "\n",
    "data = { #  словарь с заранее подготовленными значениями метрик по месяцам, которые мы будем использовать в ежемесячных отчетах\n",
    "    '2020-01-01':{\n",
    "        'MAU':12300, # общее количество уникальных пользователей за месяц, которые воспользовались нашим сервисом\n",
    "        'Retention':0.88, # доля от общего количества пользователей прошлого месяца, которая вернулась в наш сервис в текущем месяце\n",
    "        'New Users':9012, # количество новых пользователей в нашем сервисе\n",
    "        'New Orders': 1404 # количество новых заказов от новых пользователей нашего сервиса\n",
    "    },\n",
    "    '2020-02-01':{'MAU':11432,'Retention':0.75, 'New Users':12011, 'New Orders':2443 },\n",
    "    '2020-03-01':{'MAU':13348,'Retention':0.89, 'New Users':8732, 'New Orders':1454 },\n",
    "    '2020-04-01':{'MAU':13400,'Retention':0.93, 'New Users':9342, 'New Orders':2235 },\n",
    "    '2020-05-01':{'MAU':13354,'Retention':0.79, 'New Users':11032, 'New Orders':4402 }\n",
    "}"
   ]
  },
  {
   "cell_type": "markdown",
   "metadata": {
    "id": "hA4RZ3ozaTh5"
   },
   "source": [
    "Далее мы разобьем эту объемную задачу на шаги, для каждого шага напишем свою функцию, а затем используем эти функции для получения итогового результата.\n",
    "\n",
    "*Тема этой домашки – функции, поэтому очень важно как можно больше переиспользовать функции из предыдущих заданий – ведь именно в возможности переиспользовать заключается основное преимущество функций. Чтобы переиспользовать функцию, нужно вызвать ее по имени и передать ей аргументы* "
   ]
  },
  {
   "cell_type": "markdown",
   "metadata": {
    "id": "HGNv3mx2aTh7"
   },
   "source": [
    "## Задание 1\n",
    "\n",
    "Напиши функцию, которая получает дату строкой в формате `%d.%m.%Y` (например, `31.12.2020`), а возвращает строкой в формате `%Y-%m-%d` (например, `2020-12-31` – именно в таком формате указывается дата в словаре с данными метрик `data`).\n",
    "\n",
    "1. Импортируй библиотеку `datetime`\n",
    "2. Определи новую функцию с помощью `def` \n",
    "3. Определи аргумент, который принимает эта функция\n",
    "4. Определи формат, в котором функция должна вернуть дату\n",
    "5. В теле функции тебе нужно сначала указать, в каком формате дата  будет передаваться, а затем задать, в каком формате дата будет возвращаться. Для этого тебе понадобятся определенные два метода, которые мы рассматривали на уроке. Если тебе нужно повторить, смело смотри шпаргалку. \n",
    "6. Верни нужное значение с помощью `return`\n"
   ]
  },
  {
   "cell_type": "code",
   "execution_count": 58,
   "metadata": {
    "id": "DcZa_2bQaTh8"
   },
   "outputs": [],
   "source": [
    "from datetime import datetime\n",
    "\n",
    "def date_str_Ymd (date_str_dmY):\n",
    "    date = datetime.strptime(date_str_dmY, '%d.%m.%Y')\n",
    "    date_str_Ymd = date.strftime('%Y-%m-%d')\n",
    "    return date_str_Ymd"
   ]
  },
  {
   "cell_type": "code",
   "execution_count": 59,
   "metadata": {},
   "outputs": [
    {
     "name": "stdout",
     "output_type": "stream",
     "text": [
      "2020-02-01\n"
     ]
    }
   ],
   "source": [
    "print(date_str_Ymd('01.02.2020')) # проверяю, как работает функция"
   ]
  },
  {
   "cell_type": "markdown",
   "metadata": {
    "id": "ALH_DfaHaTh9"
   },
   "source": [
    "## Задание 2\n",
    "\n",
    "Теперь напиши функцию, которая получает на вход дату строкой в формате `%d.%m.%Y` и отдает все значения метрик, которые были зафиксированы в этот день, в виде словаря. Если за указанную дату показателей еще нет (то есть такой даты нет в словаре), то функция должна вернуть строку `'Нет данных'`. \n",
    "\n",
    "*В последующих заданиях можно воспользоваться результатом работы данной функции.*\n"
   ]
  },
  {
   "cell_type": "code",
   "execution_count": 186,
   "metadata": {
    "id": "EIfak1h3aTh-"
   },
   "outputs": [],
   "source": [
    "# Hint: тебе поможет метод dict.get(). Не забывай, что у dict.get() есть второй аргумент: значение, которое вернется, если в словаре нет искомого ключа\n",
    "\n",
    "# написанную функцию можно проверить, передав в аргумент дату 01.02.2020\n",
    "\n",
    "def metrics_date_dict (date_str_dmY):\n",
    "    metrics_date_dict = dict()\n",
    "    for date in data:\n",
    "        metrics_date_dict = data.get(date_str_Ymd(date_str_dmY), 'Нет данных') # функция из Задания 1\n",
    "    return metrics_date_dict\n",
    "    "
   ]
  },
  {
   "cell_type": "code",
   "execution_count": 187,
   "metadata": {},
   "outputs": [
    {
     "name": "stdout",
     "output_type": "stream",
     "text": [
      "{'MAU': 11432, 'Retention': 0.75, 'New Users': 12011, 'New Orders': 2443}\n"
     ]
    }
   ],
   "source": [
    "print(metrics_date_dict('01.02.2020')) # проверяю, как работает функция"
   ]
  },
  {
   "cell_type": "markdown",
   "metadata": {
    "id": "PZ0LVX3paTh_"
   },
   "source": [
    "## Задание 3\n",
    "\n",
    "Напиши функцию, которая получает на вход имя сотрудника и отдает набор метрик из словаря `metrics`, которые необходимы человеку на этой позиции. Значения метрик находить пока не нужно — это сделаем на следующем шаге."
   ]
  },
  {
   "cell_type": "code",
   "execution_count": 232,
   "metadata": {
    "id": "hcSNSZ6taTh_"
   },
   "outputs": [],
   "source": [
    "# написанную функцию можно проверить, передав строкой в аргумент имя одного из сотрудников. Например, «Ольга»\n",
    "\n",
    "def metrics_staff_list (name):\n",
    "    metrics_staff_list = list()\n",
    "    for metric in metrics:\n",
    "        metrics_staff_list = metrics[staff.get(name)]\n",
    "    return metrics_staff_list"
   ]
  },
  {
   "cell_type": "code",
   "execution_count": 234,
   "metadata": {
    "scrolled": true
   },
   "outputs": [
    {
     "name": "stdout",
     "output_type": "stream",
     "text": [
      "['Retention', 'MAU', 'New Users', 'New Orders', 'C1']\n"
     ]
    }
   ],
   "source": [
    "print(metrics_staff_list('Ольга')) # проверяю, как работает функция"
   ]
  },
  {
   "cell_type": "markdown",
   "metadata": {
    "id": "LTk-d8YAmNrz"
   },
   "source": [
    "## Задание 4\n",
    "\n",
    "В нашу компанию пришли стажеры, и для них выстроена иная система получения метрик. Стежеры самостоятельно запрашивают метрики (записываются в список `metrics_requested`), и система по каждой метрике выдает им либо \"Значение метрики отправлено в Слак\", либо \"Недостаточно прав\". \n",
    "\n",
    "\n",
    "*Например, стажер запрашивает:*\n",
    "\n",
    "`'MAU', 'Retention'`\n",
    "\n",
    "*Тогда система выдаст:*\n",
    "\n",
    "`Недостаточно прав для получения метрики MAU`\n",
    "\n",
    "`Значение метрики Retention отправлено в Слак`\n",
    "\n",
    "\n",
    "В словаре `metrics` у тебя есть ключ `Intern` со значением в виде списка всех  метрик, доступных стажеру.\n",
    "\n",
    "Напиши функцию, которая будет выдавать ответ на указываемые в `metrics_requested` метрики."
   ]
  },
  {
   "cell_type": "code",
   "execution_count": 180,
   "metadata": {
    "id": "5yhHiFwTmM4T"
   },
   "outputs": [],
   "source": [
    "# Hint: Используй метод format() или f-строки. Если есть сомнения в том, как испоользовать эти методы, смело смотри в шпаргалке.\n",
    "\n",
    "def metrics_system(metrics_requested):\n",
    "    # напиши свой код тут\n",
    "    for metric_request in metrics_requested:\n",
    "        if metric_request in metrics['Intern']:\n",
    "            print(f'Значение метрики {metric_request} отправлено в Слак')\n",
    "        else:\n",
    "            print('Недостаточно прав для получения метрики {0}'.format(metric_request))\n"
   ]
  },
  {
   "cell_type": "code",
   "execution_count": 181,
   "metadata": {},
   "outputs": [
    {
     "name": "stdout",
     "output_type": "stream",
     "text": [
      "Значение метрики Retention отправлено в Слак\n",
      "Недостаточно прав для получения метрики C1\n",
      "Значение метрики New Orders отправлено в Слак\n",
      "Недостаточно прав для получения метрики MAU\n"
     ]
    }
   ],
   "source": [
    "metrics_system(['Retention', 'C1', 'New Orders', 'MAU']) # проверяю, как работает функция"
   ]
  },
  {
   "cell_type": "markdown",
   "metadata": {
    "id": "Gxvz8cFQaTiA"
   },
   "source": [
    "## Задание 5\n",
    "\n",
    "Напиши функцию, которая получает на вход имя и дату и отдает все значения метрик за указанный день (тоже в виде словаря), которые необходимы человеку на его позиции.\n",
    "\n",
    "\n",
    "❗️Обрати внимание, что наш CPO (Chief Product Officer, он же директор по продукту) хочет получать метрику C1 (конверсия в первую покупку). Ее нет в нашем словаре, но ее можно очень легко вычислить вот так: __New Orders / New Users__\n",
    "\n",
    "Ход решения может быть таким: \n",
    "\n",
    "1. Получи значения метрик за конкретную дату\n",
    "2. Получи список метрик, которые необходимы получателю\n",
    "3. Сделай так, чтобы в итоговом словаре были метрики из пункта 3 и их значения \n",
    "\n",
    "*В этом задании можно и нужно использовать функции из предыдущих заданий*\n"
   ]
  },
  {
   "cell_type": "code",
   "execution_count": 314,
   "metadata": {
    "id": "pYx6xCR2aTiB"
   },
   "outputs": [],
   "source": [
    "# если предыдущие задания готовы, используй функции оттуда. \n",
    "# написанную функцию можно проверить, передав в аргументы имя одного из сотрудников и дату. Например, «Ольга» и «01.02.2020»\n",
    "\n",
    "def all_metrics_for_date (name, date):\n",
    "    all_metrics_date = dict()\n",
    "    for n in metrics_staff_list(name):\n",
    "        if n == 'C1':\n",
    "            all_metrics_date[n] = round(metrics_date_dict(date)['New Orders'] / metrics_date_dict(date)['New Users'], 2)\n",
    "        else:\n",
    "            all_metrics_date[n] = metrics_date_dict(date)[n]\n",
    "    return all_metrics_date\n",
    "    "
   ]
  },
  {
   "cell_type": "code",
   "execution_count": 316,
   "metadata": {},
   "outputs": [
    {
     "name": "stdout",
     "output_type": "stream",
     "text": [
      "{'Retention': 0.89, 'MAU': 13348, 'New Users': 8732, 'New Orders': 1454, 'C1': 0.17}\n"
     ]
    }
   ],
   "source": [
    "print(all_metrics_for_date('Ольга', '01.03.2020')) # проверяю, как работает функция"
   ]
  },
  {
   "cell_type": "code",
   "execution_count": 313,
   "metadata": {},
   "outputs": [
    {
     "name": "stdout",
     "output_type": "stream",
     "text": [
      "{'MAU': 13348, 'Retention': 0.89, 'New Users': 8732, 'New Orders': 1454}\n",
      "['Retention', 'MAU', 'New Users', 'New Orders', 'C1']\n"
     ]
    }
   ],
   "source": [
    "# ещё раз проверяю отдельно\n",
    "\n",
    "print(metrics_date_dict('01.03.2020'))\n",
    "print(metrics_staff_list('Ольга'))"
   ]
  },
  {
   "cell_type": "markdown",
   "metadata": {
    "id": "uvALY1k4aTiB"
   },
   "source": [
    "## Задание 6\n",
    "\n",
    "Теперь давай приведем выгрузку данных к красивому формату:\n",
    "\n",
    "__«Добрый день, {имя}! Для тебя есть интересные данные за {дата}: {метрики}»__\n",
    "\n",
    "Для этого используй метод `.format()` или f-строки. Если есть сомнения в том, как использовать эти методы, смело смотри в шпаргалке."
   ]
  },
  {
   "cell_type": "code",
   "execution_count": 324,
   "metadata": {
    "id": "lQqLEFfyaTiC"
   },
   "outputs": [
    {
     "name": "stdout",
     "output_type": "stream",
     "text": [
      "Добрый день, Ольга! Для тебя есть интересные данные за 01.03.2020:\n",
      "{'Retention': 0.89, 'MAU': 13348, 'New Users': 8732, 'New Orders': 1454, 'C1': 0.17}\n"
     ]
    }
   ],
   "source": [
    "# напиши свой код тут\n",
    "\n",
    "name = 'Ольга'\n",
    "date = '01.03.2020'\n",
    "\n",
    "print(f'Добрый день, {name}! Для тебя есть интересные данные за {date}:\\n{all_metrics_for_date (name, date)}')"
   ]
  },
  {
   "cell_type": "markdown",
   "metadata": {
    "id": "g-bxwViSP97Y"
   },
   "source": [
    "Добавим немного магии ⭐️\n",
    "\n",
    "*Это не задание, а маленький сюрприз* 🎁\n",
    "\n",
    "Мы научились собирать и красиво оформлять отчет о ключевых показателях. В Skyeng такие сообщения автоматически отправляются, например, в общие каналы в слаке, и мы научимся делать это на предпоследнем занятии. \n",
    "\n",
    "💫 А пока предлагаем опробовать такую механику репортинга, отправив сообщения из кода себе на почту. В ячейке ниже отправка производится с помощью специального механизма, который называется вебхук, мы настроили его для имейлов. \n",
    "\n",
    "💫 Это не задание, так что не делай лишнего. Тебе нужно лишь скопировать и вставить сообщение из последнего задания, написать свою почту и запустить ячейку. Код должен выдать `<Response [200]>`\n",
    "\n",
    "К сожалению, иногда случаются сбои, и письмо может не прийти. Не растраивайся и помни, что совсем скоро ты сможешь самостоятельно настраивать такие сообщения!💪\n"
   ]
  },
  {
   "cell_type": "code",
   "execution_count": 1,
   "metadata": {
    "id": "udDiVn_MaTiD"
   },
   "outputs": [
    {
     "data": {
      "text/plain": [
       "<Response [200]>"
      ]
     },
     "execution_count": 1,
     "metadata": {},
     "output_type": "execute_result"
    }
   ],
   "source": [
    "import requests\n",
    "\n",
    "message = 'Добрый день, {name}! Для тебя есть интересные данные за {date}:\\n{all_metrics_for_date (name, date)}'\n",
    "\n",
    "params = {\n",
    "    'email': 'you@mail.com', # укажи тут имейл, на который хочешь получить отчет\n",
    "    'message': message\n",
    "}\n",
    "\n",
    "requests.get('https://hooks.zapier.com/hooks/catch/4053314/opq51jb/', params)"
   ]
  }
 ],
 "metadata": {
  "colab": {
   "collapsed_sections": [],
   "name": "Python_1.3_homework.ipynb",
   "provenance": []
  },
  "kernelspec": {
   "display_name": "Python 3 (ipykernel)",
   "language": "python",
   "name": "python3"
  },
  "language_info": {
   "codemirror_mode": {
    "name": "ipython",
    "version": 3
   },
   "file_extension": ".py",
   "mimetype": "text/x-python",
   "name": "python",
   "nbconvert_exporter": "python",
   "pygments_lexer": "ipython3",
   "version": "3.9.10"
  }
 },
 "nbformat": 4,
 "nbformat_minor": 1
}
