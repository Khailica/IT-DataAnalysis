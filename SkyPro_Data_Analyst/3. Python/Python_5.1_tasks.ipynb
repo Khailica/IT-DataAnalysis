{
 "cells": [
  {
   "cell_type": "markdown",
   "metadata": {
    "id": "-3oXj82JoVk_"
   },
   "source": [
    "<div class=\"alert block-alert alert-success\">\n",
    "    <h1>Задания 5.1</h1>\n",
    "</div>"
   ]
  },
  {
   "cell_type": "markdown",
   "metadata": {
    "id": "qJTohQeUoVlC"
   },
   "source": [
    "**ABC-анализ** позволяет определить наиболее важные ресурсы компании на основе объемов продаж и прибыли.\n",
    "\n",
    "В основе ABC-анализа лежит __«Принцип Парето»: 20% ресурсов приносят 80% прибыли__. Именно этот вид анализа позволяет выделить те самые  группы товаров, ресурсов, клиентов, поставщиков и т. п., которые и приносят компании основную прибыль."
   ]
  },
  {
   "cell_type": "markdown",
   "metadata": {
    "id": "D4BBB3rsoVlC"
   },
   "source": [
    "__Задача анализа разделить товары на группы по принципу:__\n",
    "\n",
    "- А — наиболее ценные, 20% — ассортимента (номенклатура); 80% — продаж\n",
    "- В — промежуточные, 30% — ассортимента; 15% — продаж\n",
    "- С — наименее ценные, 50% — ассортимента; 5% — продаж"
   ]
  },
  {
   "cell_type": "markdown",
   "metadata": {
    "id": "IPcD8O9IoVlD"
   },
   "source": [
    "---\n",
    "## Задание 1"
   ]
  },
  {
   "cell_type": "markdown",
   "metadata": {
    "id": "RnTNO05JoVlF"
   },
   "source": [
    "Сохраните все данные из таблицы `products` из PostgreSQL в дата-фрейм `products` и подготовьте данные к анализу.\n",
    "\n",
    "1. Подгрузите данные для подключения\n",
    "2. Подключите нужную библиотеку для работы с PostgreSQL\n",
    "3. Создайте соединение с БД\n",
    "4. Создайте запрос и выгрузите все данные из таблицы `products`\n",
    "5. Положите данные в дата-фрейм `products`\n",
    "6. Приведите данные к удобному типу: числа к числовому типу, идентификаторы — к текстовому\n"
   ]
  },
  {
   "cell_type": "code",
   "execution_count": 1,
   "metadata": {
    "id": "d5azEwAaoVlF"
   },
   "outputs": [],
   "source": [
    "from postgresql_secret import pg_secret"
   ]
  },
  {
   "cell_type": "code",
   "execution_count": 2,
   "metadata": {
    "id": "B_ubls_coVlG"
   },
   "outputs": [],
   "source": [
    "import psycopg2\n",
    "\n",
    "# создаю соединение\n",
    "connection = psycopg2.connect(\n",
    "                             database=pg_secret['db_name'],\n",
    "                             user=pg_secret['db_user'],\n",
    "                             password=pg_secret['db_password'],\n",
    "                             host=pg_secret['db_host'],\n",
    "                             port=pg_secret['db_port'],\n",
    "                             )\n",
    "\n",
    "# завожу курсор, чтобы делать запросы в базу\n",
    "cursor = connection.cursor()"
   ]
  },
  {
   "cell_type": "code",
   "execution_count": 3,
   "metadata": {
    "id": "t-Tq4rzjoVlG"
   },
   "outputs": [],
   "source": [
    "import pandas as pd\n",
    "\n",
    "# переменной присваиваю запрос (если передаю одну строку, то можно использовать '')\n",
    "query = \"\"\"\n",
    "            SELECT * \n",
    "              FROM products\n",
    "        \"\"\"\n",
    "cursor.execute(query) # передаю запрос в метод\n",
    "result = cursor.fetchall() # запрашиваю все строки"
   ]
  },
  {
   "cell_type": "code",
   "execution_count": 4,
   "metadata": {
    "scrolled": true
   },
   "outputs": [
    {
     "data": {
      "text/plain": [
       "(Column(name='invoice_id', type_code=23),\n",
       " Column(name='stock_code', type_code=1043),\n",
       " Column(name='description', type_code=1043),\n",
       " Column(name='quantity', type_code=23),\n",
       " Column(name='price', type_code=1700))"
      ]
     },
     "execution_count": 4,
     "metadata": {},
     "output_type": "execute_result"
    }
   ],
   "source": [
    "cursor.description # кортеж с именами и описнием колонок"
   ]
  },
  {
   "cell_type": "code",
   "execution_count": 5,
   "metadata": {
    "scrolled": true
   },
   "outputs": [
    {
     "data": {
      "text/html": [
       "<div>\n",
       "<style scoped>\n",
       "    .dataframe tbody tr th:only-of-type {\n",
       "        vertical-align: middle;\n",
       "    }\n",
       "\n",
       "    .dataframe tbody tr th {\n",
       "        vertical-align: top;\n",
       "    }\n",
       "\n",
       "    .dataframe thead th {\n",
       "        text-align: right;\n",
       "    }\n",
       "</style>\n",
       "<table border=\"1\" class=\"dataframe\">\n",
       "  <thead>\n",
       "    <tr style=\"text-align: right;\">\n",
       "      <th></th>\n",
       "      <th>invoice_id</th>\n",
       "      <th>stock_code</th>\n",
       "      <th>description</th>\n",
       "      <th>quantity</th>\n",
       "      <th>price</th>\n",
       "    </tr>\n",
       "  </thead>\n",
       "  <tbody>\n",
       "    <tr>\n",
       "      <th>0</th>\n",
       "      <td>557472</td>\n",
       "      <td>21033</td>\n",
       "      <td>JUMBO BAG CHARLIE AND LOLA TOYS</td>\n",
       "      <td>10</td>\n",
       "      <td>2.08</td>\n",
       "    </tr>\n",
       "    <tr>\n",
       "      <th>1</th>\n",
       "      <td>557472</td>\n",
       "      <td>20719</td>\n",
       "      <td>WOODLAND CHARLOTTE BAG</td>\n",
       "      <td>10</td>\n",
       "      <td>0.85</td>\n",
       "    </tr>\n",
       "    <tr>\n",
       "      <th>2</th>\n",
       "      <td>557472</td>\n",
       "      <td>22661</td>\n",
       "      <td>CHARLOTTE BAG DOLLY GIRL DESIGN</td>\n",
       "      <td>10</td>\n",
       "      <td>0.85</td>\n",
       "    </tr>\n",
       "    <tr>\n",
       "      <th>3</th>\n",
       "      <td>557472</td>\n",
       "      <td>84832</td>\n",
       "      <td>ZINC WILLIE WINKIE  CANDLE STICK</td>\n",
       "      <td>12</td>\n",
       "      <td>0.85</td>\n",
       "    </tr>\n",
       "    <tr>\n",
       "      <th>4</th>\n",
       "      <td>557472</td>\n",
       "      <td>84078A</td>\n",
       "      <td>SET/4 WHITE RETRO STORAGE CUBES</td>\n",
       "      <td>4</td>\n",
       "      <td>34.95</td>\n",
       "    </tr>\n",
       "    <tr>\n",
       "      <th>...</th>\n",
       "      <td>...</td>\n",
       "      <td>...</td>\n",
       "      <td>...</td>\n",
       "      <td>...</td>\n",
       "      <td>...</td>\n",
       "    </tr>\n",
       "    <tr>\n",
       "      <th>779490</th>\n",
       "      <td>557472</td>\n",
       "      <td>85183A</td>\n",
       "      <td>CHARLIE &amp; LOLA WASTEPAPER BIN BLUE</td>\n",
       "      <td>36</td>\n",
       "      <td>1.25</td>\n",
       "    </tr>\n",
       "    <tr>\n",
       "      <th>779491</th>\n",
       "      <td>557472</td>\n",
       "      <td>85183B</td>\n",
       "      <td>CHARLIE &amp; LOLA WASTEPAPER BIN FLORA</td>\n",
       "      <td>36</td>\n",
       "      <td>1.25</td>\n",
       "    </tr>\n",
       "    <tr>\n",
       "      <th>779492</th>\n",
       "      <td>557472</td>\n",
       "      <td>22371</td>\n",
       "      <td>AIRLINE BAG VINTAGE TOKYO 78</td>\n",
       "      <td>4</td>\n",
       "      <td>4.25</td>\n",
       "    </tr>\n",
       "    <tr>\n",
       "      <th>779493</th>\n",
       "      <td>557472</td>\n",
       "      <td>22372</td>\n",
       "      <td>AIRLINE BAG VINTAGE WORLD CHAMPION</td>\n",
       "      <td>4</td>\n",
       "      <td>4.25</td>\n",
       "    </tr>\n",
       "    <tr>\n",
       "      <th>779494</th>\n",
       "      <td>557472</td>\n",
       "      <td>20712</td>\n",
       "      <td>JUMBO BAG WOODLAND ANIMALS</td>\n",
       "      <td>10</td>\n",
       "      <td>2.08</td>\n",
       "    </tr>\n",
       "  </tbody>\n",
       "</table>\n",
       "<p>779495 rows × 5 columns</p>\n",
       "</div>"
      ],
      "text/plain": [
       "        invoice_id stock_code                          description  quantity  \\\n",
       "0           557472      21033      JUMBO BAG CHARLIE AND LOLA TOYS        10   \n",
       "1           557472      20719               WOODLAND CHARLOTTE BAG        10   \n",
       "2           557472      22661      CHARLOTTE BAG DOLLY GIRL DESIGN        10   \n",
       "3           557472      84832     ZINC WILLIE WINKIE  CANDLE STICK        12   \n",
       "4           557472     84078A     SET/4 WHITE RETRO STORAGE CUBES          4   \n",
       "...            ...        ...                                  ...       ...   \n",
       "779490      557472     85183A   CHARLIE & LOLA WASTEPAPER BIN BLUE        36   \n",
       "779491      557472     85183B  CHARLIE & LOLA WASTEPAPER BIN FLORA        36   \n",
       "779492      557472      22371         AIRLINE BAG VINTAGE TOKYO 78         4   \n",
       "779493      557472      22372  AIRLINE BAG VINTAGE WORLD CHAMPION          4   \n",
       "779494      557472      20712           JUMBO BAG WOODLAND ANIMALS        10   \n",
       "\n",
       "        price  \n",
       "0        2.08  \n",
       "1        0.85  \n",
       "2        0.85  \n",
       "3        0.85  \n",
       "4       34.95  \n",
       "...       ...  \n",
       "779490   1.25  \n",
       "779491   1.25  \n",
       "779492   4.25  \n",
       "779493   4.25  \n",
       "779494   2.08  \n",
       "\n",
       "[779495 rows x 5 columns]"
      ]
     },
     "execution_count": 5,
     "metadata": {},
     "output_type": "execute_result"
    }
   ],
   "source": [
    "columns = []                     # в этот список сохраняю названия колонок\n",
    "for desc in cursor.description:  \n",
    "    columns.append(desc[0])      # названия колонок беру из первого элемента cursor.description\n",
    "\n",
    "    \n",
    "products = pd.DataFrame(result, columns=columns)  # из списка кортежей делаю датафрейм\n",
    "products"
   ]
  },
  {
   "cell_type": "code",
   "execution_count": 6,
   "metadata": {
    "scrolled": true
   },
   "outputs": [
    {
     "name": "stdout",
     "output_type": "stream",
     "text": [
      "<class 'pandas.core.frame.DataFrame'>\n",
      "RangeIndex: 779495 entries, 0 to 779494\n",
      "Data columns (total 5 columns):\n",
      " #   Column       Non-Null Count   Dtype \n",
      "---  ------       --------------   ----- \n",
      " 0   invoice_id   779495 non-null  int64 \n",
      " 1   stock_code   779495 non-null  object\n",
      " 2   description  779495 non-null  object\n",
      " 3   quantity     779495 non-null  int64 \n",
      " 4   price        779495 non-null  object\n",
      "dtypes: int64(2), object(3)\n",
      "memory usage: 29.7+ MB\n"
     ]
    }
   ],
   "source": [
    "products.info() # смотрю типы данных"
   ]
  },
  {
   "cell_type": "code",
   "execution_count": 7,
   "metadata": {},
   "outputs": [],
   "source": [
    "# преобразовываю типы данных согласно условию\n",
    "\n",
    "products['invoice_id'] = products['invoice_id'].apply(str)\n",
    "products['price'] = products['price'].astype('float64')"
   ]
  },
  {
   "cell_type": "code",
   "execution_count": 8,
   "metadata": {
    "scrolled": true
   },
   "outputs": [
    {
     "name": "stdout",
     "output_type": "stream",
     "text": [
      "<class 'pandas.core.frame.DataFrame'>\n",
      "RangeIndex: 779495 entries, 0 to 779494\n",
      "Data columns (total 5 columns):\n",
      " #   Column       Non-Null Count   Dtype  \n",
      "---  ------       --------------   -----  \n",
      " 0   invoice_id   779495 non-null  object \n",
      " 1   stock_code   779495 non-null  object \n",
      " 2   description  779495 non-null  object \n",
      " 3   quantity     779495 non-null  int64  \n",
      " 4   price        779495 non-null  float64\n",
      "dtypes: float64(1), int64(1), object(3)\n",
      "memory usage: 29.7+ MB\n"
     ]
    }
   ],
   "source": [
    "products.info() # проверяю какие типы данных применились"
   ]
  },
  {
   "cell_type": "markdown",
   "metadata": {
    "id": "TPii4OlroVlG"
   },
   "source": [
    "---\n",
    "## Задание 2\n",
    "\n",
    "__Посчитайте, какой доход принес каждый продукт и сколько единиц каждого продукта было продано__\n",
    "\n",
    "1. Посчитай общую сумму оплат для каждой строки счета\n",
    "2. Получи общий доход и количество единиц по товарам\n",
    "3. Объедини сгруппированные данные в один датафрейм со столбцами: `description`, `stock_code`, `quantity`, `total`"
   ]
  },
  {
   "cell_type": "code",
   "execution_count": 9,
   "metadata": {
    "scrolled": true
   },
   "outputs": [
    {
     "data": {
      "text/html": [
       "<div>\n",
       "<style scoped>\n",
       "    .dataframe tbody tr th:only-of-type {\n",
       "        vertical-align: middle;\n",
       "    }\n",
       "\n",
       "    .dataframe tbody tr th {\n",
       "        vertical-align: top;\n",
       "    }\n",
       "\n",
       "    .dataframe thead th {\n",
       "        text-align: right;\n",
       "    }\n",
       "</style>\n",
       "<table border=\"1\" class=\"dataframe\">\n",
       "  <thead>\n",
       "    <tr style=\"text-align: right;\">\n",
       "      <th></th>\n",
       "      <th>invoice_id</th>\n",
       "      <th>stock_code</th>\n",
       "      <th>description</th>\n",
       "      <th>quantity</th>\n",
       "      <th>price</th>\n",
       "    </tr>\n",
       "  </thead>\n",
       "  <tbody>\n",
       "    <tr>\n",
       "      <th>733049</th>\n",
       "      <td>551517</td>\n",
       "      <td>22554</td>\n",
       "      <td>PLASTERS IN TIN WOODLAND ANIMALS</td>\n",
       "      <td>3</td>\n",
       "      <td>1.65</td>\n",
       "    </tr>\n",
       "    <tr>\n",
       "      <th>584777</th>\n",
       "      <td>532964</td>\n",
       "      <td>20830</td>\n",
       "      <td>SILVER PHOTO FRAME</td>\n",
       "      <td>4</td>\n",
       "      <td>2.10</td>\n",
       "    </tr>\n",
       "    <tr>\n",
       "      <th>635198</th>\n",
       "      <td>538660</td>\n",
       "      <td>84029E</td>\n",
       "      <td>RED WOOLLY HOTTIE WHITE HEART.</td>\n",
       "      <td>12</td>\n",
       "      <td>3.75</td>\n",
       "    </tr>\n",
       "    <tr>\n",
       "      <th>484525</th>\n",
       "      <td>522089</td>\n",
       "      <td>85099F</td>\n",
       "      <td>JUMBO BAG STRAWBERRY</td>\n",
       "      <td>2</td>\n",
       "      <td>1.95</td>\n",
       "    </tr>\n",
       "  </tbody>\n",
       "</table>\n",
       "</div>"
      ],
      "text/plain": [
       "       invoice_id stock_code                       description  quantity  \\\n",
       "733049     551517      22554  PLASTERS IN TIN WOODLAND ANIMALS         3   \n",
       "584777     532964      20830                SILVER PHOTO FRAME         4   \n",
       "635198     538660     84029E    RED WOOLLY HOTTIE WHITE HEART.        12   \n",
       "484525     522089     85099F              JUMBO BAG STRAWBERRY         2   \n",
       "\n",
       "        price  \n",
       "733049   1.65  \n",
       "584777   2.10  \n",
       "635198   3.75  \n",
       "484525   1.95  "
      ]
     },
     "execution_count": 9,
     "metadata": {},
     "output_type": "execute_result"
    }
   ],
   "source": [
    "products.sample(4) # ещё раз смотрю на таблицу"
   ]
  },
  {
   "cell_type": "code",
   "execution_count": 10,
   "metadata": {
    "id": "HF8pL2VuoVlG"
   },
   "outputs": [],
   "source": [
    "# считаю общую сумму оплат для каждой строки счёта\n",
    "\n",
    "products['total_payments'] = products['quantity'] * products['price']"
   ]
  },
  {
   "cell_type": "code",
   "execution_count": 11,
   "metadata": {
    "id": "0ZvRsuDeoVlH",
    "scrolled": true
   },
   "outputs": [
    {
     "data": {
      "text/html": [
       "<div>\n",
       "<style scoped>\n",
       "    .dataframe tbody tr th:only-of-type {\n",
       "        vertical-align: middle;\n",
       "    }\n",
       "\n",
       "    .dataframe tbody tr th {\n",
       "        vertical-align: top;\n",
       "    }\n",
       "\n",
       "    .dataframe thead th {\n",
       "        text-align: right;\n",
       "    }\n",
       "</style>\n",
       "<table border=\"1\" class=\"dataframe\">\n",
       "  <thead>\n",
       "    <tr style=\"text-align: right;\">\n",
       "      <th></th>\n",
       "      <th>stock_code</th>\n",
       "      <th>total_payments</th>\n",
       "    </tr>\n",
       "  </thead>\n",
       "  <tbody>\n",
       "    <tr>\n",
       "      <th>0</th>\n",
       "      <td>10002</td>\n",
       "      <td>6638.27</td>\n",
       "    </tr>\n",
       "    <tr>\n",
       "      <th>1</th>\n",
       "      <td>10080</td>\n",
       "      <td>124.61</td>\n",
       "    </tr>\n",
       "    <tr>\n",
       "      <th>2</th>\n",
       "      <td>10109</td>\n",
       "      <td>1.68</td>\n",
       "    </tr>\n",
       "    <tr>\n",
       "      <th>3</th>\n",
       "      <td>10120</td>\n",
       "      <td>136.08</td>\n",
       "    </tr>\n",
       "    <tr>\n",
       "      <th>4</th>\n",
       "      <td>10123C</td>\n",
       "      <td>226.76</td>\n",
       "    </tr>\n",
       "    <tr>\n",
       "      <th>...</th>\n",
       "      <td>...</td>\n",
       "      <td>...</td>\n",
       "    </tr>\n",
       "    <tr>\n",
       "      <th>4626</th>\n",
       "      <td>PADS</td>\n",
       "      <td>0.00</td>\n",
       "    </tr>\n",
       "    <tr>\n",
       "      <th>4627</th>\n",
       "      <td>POST</td>\n",
       "      <td>124648.04</td>\n",
       "    </tr>\n",
       "    <tr>\n",
       "      <th>4628</th>\n",
       "      <td>SP1002</td>\n",
       "      <td>14.75</td>\n",
       "    </tr>\n",
       "    <tr>\n",
       "      <th>4629</th>\n",
       "      <td>TEST001</td>\n",
       "      <td>225.00</td>\n",
       "    </tr>\n",
       "    <tr>\n",
       "      <th>4630</th>\n",
       "      <td>TEST002</td>\n",
       "      <td>1.00</td>\n",
       "    </tr>\n",
       "  </tbody>\n",
       "</table>\n",
       "<p>4631 rows × 2 columns</p>\n",
       "</div>"
      ],
      "text/plain": [
       "     stock_code  total_payments\n",
       "0         10002         6638.27\n",
       "1         10080          124.61\n",
       "2         10109            1.68\n",
       "3         10120          136.08\n",
       "4        10123C          226.76\n",
       "...         ...             ...\n",
       "4626       PADS            0.00\n",
       "4627       POST       124648.04\n",
       "4628     SP1002           14.75\n",
       "4629    TEST001          225.00\n",
       "4630    TEST002            1.00\n",
       "\n",
       "[4631 rows x 2 columns]"
      ]
     },
     "execution_count": 11,
     "metadata": {},
     "output_type": "execute_result"
    }
   ],
   "source": [
    "# считаю общих доход по каждому товару\n",
    "\n",
    "total_revenue_per_product = products.groupby(products['stock_code'])['total_payments'].sum().reset_index()\n",
    "total_revenue_per_product"
   ]
  },
  {
   "cell_type": "code",
   "execution_count": 12,
   "metadata": {
    "id": "pEkoPL_NoVlH",
    "scrolled": true
   },
   "outputs": [
    {
     "data": {
      "text/html": [
       "<div>\n",
       "<style scoped>\n",
       "    .dataframe tbody tr th:only-of-type {\n",
       "        vertical-align: middle;\n",
       "    }\n",
       "\n",
       "    .dataframe tbody tr th {\n",
       "        vertical-align: top;\n",
       "    }\n",
       "\n",
       "    .dataframe thead th {\n",
       "        text-align: right;\n",
       "    }\n",
       "</style>\n",
       "<table border=\"1\" class=\"dataframe\">\n",
       "  <thead>\n",
       "    <tr style=\"text-align: right;\">\n",
       "      <th></th>\n",
       "      <th>stock_code</th>\n",
       "      <th>total_quantity</th>\n",
       "    </tr>\n",
       "  </thead>\n",
       "  <tbody>\n",
       "    <tr>\n",
       "      <th>0</th>\n",
       "      <td>10002</td>\n",
       "      <td>8479</td>\n",
       "    </tr>\n",
       "    <tr>\n",
       "      <th>1</th>\n",
       "      <td>10080</td>\n",
       "      <td>303</td>\n",
       "    </tr>\n",
       "    <tr>\n",
       "      <th>2</th>\n",
       "      <td>10109</td>\n",
       "      <td>4</td>\n",
       "    </tr>\n",
       "    <tr>\n",
       "      <th>3</th>\n",
       "      <td>10120</td>\n",
       "      <td>648</td>\n",
       "    </tr>\n",
       "    <tr>\n",
       "      <th>4</th>\n",
       "      <td>10123C</td>\n",
       "      <td>628</td>\n",
       "    </tr>\n",
       "    <tr>\n",
       "      <th>...</th>\n",
       "      <td>...</td>\n",
       "      <td>...</td>\n",
       "    </tr>\n",
       "    <tr>\n",
       "      <th>4626</th>\n",
       "      <td>PADS</td>\n",
       "      <td>18</td>\n",
       "    </tr>\n",
       "    <tr>\n",
       "      <th>4627</th>\n",
       "      <td>POST</td>\n",
       "      <td>5235</td>\n",
       "    </tr>\n",
       "    <tr>\n",
       "      <th>4628</th>\n",
       "      <td>SP1002</td>\n",
       "      <td>5</td>\n",
       "    </tr>\n",
       "    <tr>\n",
       "      <th>4629</th>\n",
       "      <td>TEST001</td>\n",
       "      <td>60</td>\n",
       "    </tr>\n",
       "    <tr>\n",
       "      <th>4630</th>\n",
       "      <td>TEST002</td>\n",
       "      <td>1</td>\n",
       "    </tr>\n",
       "  </tbody>\n",
       "</table>\n",
       "<p>4631 rows × 2 columns</p>\n",
       "</div>"
      ],
      "text/plain": [
       "     stock_code  total_quantity\n",
       "0         10002            8479\n",
       "1         10080             303\n",
       "2         10109               4\n",
       "3         10120             648\n",
       "4        10123C             628\n",
       "...         ...             ...\n",
       "4626       PADS              18\n",
       "4627       POST            5235\n",
       "4628     SP1002               5\n",
       "4629    TEST001              60\n",
       "4630    TEST002               1\n",
       "\n",
       "[4631 rows x 2 columns]"
      ]
     },
     "execution_count": 12,
     "metadata": {},
     "output_type": "execute_result"
    }
   ],
   "source": [
    "# считаю общее количество проданных единиц по каждому товару\n",
    "\n",
    "total_units_per_product = products.groupby(products['stock_code'])['quantity'].sum().reset_index()\n",
    "total_units_per_product = total_units_per_product.rename(columns={'quantity': 'total_quantity'}) \n",
    "total_units_per_product"
   ]
  },
  {
   "cell_type": "code",
   "execution_count": 13,
   "metadata": {},
   "outputs": [
    {
     "data": {
      "text/html": [
       "<div>\n",
       "<style scoped>\n",
       "    .dataframe tbody tr th:only-of-type {\n",
       "        vertical-align: middle;\n",
       "    }\n",
       "\n",
       "    .dataframe tbody tr th {\n",
       "        vertical-align: top;\n",
       "    }\n",
       "\n",
       "    .dataframe thead th {\n",
       "        text-align: right;\n",
       "    }\n",
       "</style>\n",
       "<table border=\"1\" class=\"dataframe\">\n",
       "  <thead>\n",
       "    <tr style=\"text-align: right;\">\n",
       "      <th></th>\n",
       "      <th>stock_code</th>\n",
       "      <th>description</th>\n",
       "    </tr>\n",
       "  </thead>\n",
       "  <tbody>\n",
       "    <tr>\n",
       "      <th>0</th>\n",
       "      <td>21033</td>\n",
       "      <td>JUMBO BAG CHARLIE AND LOLA TOYS</td>\n",
       "    </tr>\n",
       "    <tr>\n",
       "      <th>1</th>\n",
       "      <td>20719</td>\n",
       "      <td>WOODLAND CHARLOTTE BAG</td>\n",
       "    </tr>\n",
       "    <tr>\n",
       "      <th>2</th>\n",
       "      <td>22661</td>\n",
       "      <td>CHARLOTTE BAG DOLLY GIRL DESIGN</td>\n",
       "    </tr>\n",
       "    <tr>\n",
       "      <th>3</th>\n",
       "      <td>84832</td>\n",
       "      <td>ZINC WILLIE WINKIE  CANDLE STICK</td>\n",
       "    </tr>\n",
       "    <tr>\n",
       "      <th>4</th>\n",
       "      <td>84078A</td>\n",
       "      <td>SET/4 WHITE RETRO STORAGE CUBES</td>\n",
       "    </tr>\n",
       "    <tr>\n",
       "      <th>...</th>\n",
       "      <td>...</td>\n",
       "      <td>...</td>\n",
       "    </tr>\n",
       "    <tr>\n",
       "      <th>758195</th>\n",
       "      <td>23086</td>\n",
       "      <td>ZINC STAR T-LIGHT HOLDER</td>\n",
       "    </tr>\n",
       "    <tr>\n",
       "      <th>770878</th>\n",
       "      <td>22502</td>\n",
       "      <td>PICNIC BASKET WICKER 60 PIECES</td>\n",
       "    </tr>\n",
       "    <tr>\n",
       "      <th>772945</th>\n",
       "      <td>23271</td>\n",
       "      <td>CHRISTMAS TABLE CANDLE SILVER SPIKE</td>\n",
       "    </tr>\n",
       "    <tr>\n",
       "      <th>773134</th>\n",
       "      <td>23244</td>\n",
       "      <td>CANNISTER VINTAGE LEAF DESIGN</td>\n",
       "    </tr>\n",
       "    <tr>\n",
       "      <th>774584</th>\n",
       "      <td>23079</td>\n",
       "      <td>TOADSTOOL BEDSIDE LIGHT</td>\n",
       "    </tr>\n",
       "  </tbody>\n",
       "</table>\n",
       "<p>5315 rows × 2 columns</p>\n",
       "</div>"
      ],
      "text/plain": [
       "       stock_code                          description\n",
       "0           21033      JUMBO BAG CHARLIE AND LOLA TOYS\n",
       "1           20719               WOODLAND CHARLOTTE BAG\n",
       "2           22661      CHARLOTTE BAG DOLLY GIRL DESIGN\n",
       "3           84832     ZINC WILLIE WINKIE  CANDLE STICK\n",
       "4          84078A     SET/4 WHITE RETRO STORAGE CUBES \n",
       "...           ...                                  ...\n",
       "758195      23086            ZINC STAR T-LIGHT HOLDER \n",
       "770878      22502       PICNIC BASKET WICKER 60 PIECES\n",
       "772945      23271  CHRISTMAS TABLE CANDLE SILVER SPIKE\n",
       "773134      23244        CANNISTER VINTAGE LEAF DESIGN\n",
       "774584      23079             TOADSTOOL BEDSIDE LIGHT \n",
       "\n",
       "[5315 rows x 2 columns]"
      ]
     },
     "execution_count": 13,
     "metadata": {},
     "output_type": "execute_result"
    }
   ],
   "source": [
    "# выделяю в отдельную таблицу товары и их описания\n",
    "\n",
    "products_description = products[['stock_code', 'description']].drop_duplicates()\n",
    "products_description"
   ]
  },
  {
   "cell_type": "code",
   "execution_count": 14,
   "metadata": {
    "scrolled": false
   },
   "outputs": [
    {
     "name": "stdout",
     "output_type": "stream",
     "text": [
      "<class 'pandas.core.frame.DataFrame'>\n",
      "Int64Index: 5315 entries, 0 to 774584\n",
      "Data columns (total 2 columns):\n",
      " #   Column       Non-Null Count  Dtype \n",
      "---  ------       --------------  ----- \n",
      " 0   stock_code   5315 non-null   object\n",
      " 1   description  5315 non-null   object\n",
      "dtypes: object(2)\n",
      "memory usage: 124.6+ KB\n"
     ]
    },
    {
     "data": {
      "text/html": [
       "<div>\n",
       "<style scoped>\n",
       "    .dataframe tbody tr th:only-of-type {\n",
       "        vertical-align: middle;\n",
       "    }\n",
       "\n",
       "    .dataframe tbody tr th {\n",
       "        vertical-align: top;\n",
       "    }\n",
       "\n",
       "    .dataframe thead th {\n",
       "        text-align: right;\n",
       "    }\n",
       "</style>\n",
       "<table border=\"1\" class=\"dataframe\">\n",
       "  <thead>\n",
       "    <tr style=\"text-align: right;\">\n",
       "      <th></th>\n",
       "      <th>stock_code</th>\n",
       "      <th>description</th>\n",
       "    </tr>\n",
       "  </thead>\n",
       "  <tbody>\n",
       "    <tr>\n",
       "      <th>count</th>\n",
       "      <td>5315</td>\n",
       "      <td>5315</td>\n",
       "    </tr>\n",
       "    <tr>\n",
       "      <th>unique</th>\n",
       "      <td>4631</td>\n",
       "      <td>5283</td>\n",
       "    </tr>\n",
       "    <tr>\n",
       "      <th>top</th>\n",
       "      <td>21955</td>\n",
       "      <td>WHITE BAMBOO RIBS LAMPSHADE</td>\n",
       "    </tr>\n",
       "    <tr>\n",
       "      <th>freq</th>\n",
       "      <td>4</td>\n",
       "      <td>3</td>\n",
       "    </tr>\n",
       "  </tbody>\n",
       "</table>\n",
       "</div>"
      ],
      "text/plain": [
       "       stock_code                  description\n",
       "count        5315                         5315\n",
       "unique       4631                         5283\n",
       "top         21955  WHITE BAMBOO RIBS LAMPSHADE\n",
       "freq            4                            3"
      ]
     },
     "execution_count": 14,
     "metadata": {},
     "output_type": "execute_result"
    }
   ],
   "source": [
    "\"\"\" Выясняется, что некоторым одинаковым продуктам соответствуют разные описания.\n",
    "    уникальных 'stock_code' = 4631, а уникальных 'description' = 5283  \"\"\"\n",
    "\n",
    "products_description.info()\n",
    "products_description.describe(include='all')"
   ]
  },
  {
   "cell_type": "code",
   "execution_count": 15,
   "metadata": {
    "id": "XZz8YxEJoVlH",
    "scrolled": false
   },
   "outputs": [
    {
     "data": {
      "text/html": [
       "<div>\n",
       "<style scoped>\n",
       "    .dataframe tbody tr th:only-of-type {\n",
       "        vertical-align: middle;\n",
       "    }\n",
       "\n",
       "    .dataframe tbody tr th {\n",
       "        vertical-align: top;\n",
       "    }\n",
       "\n",
       "    .dataframe thead th {\n",
       "        text-align: right;\n",
       "    }\n",
       "</style>\n",
       "<table border=\"1\" class=\"dataframe\">\n",
       "  <thead>\n",
       "    <tr style=\"text-align: right;\">\n",
       "      <th></th>\n",
       "      <th>stock_code</th>\n",
       "      <th>description</th>\n",
       "      <th>total_quantity</th>\n",
       "      <th>total_payments</th>\n",
       "    </tr>\n",
       "  </thead>\n",
       "  <tbody>\n",
       "    <tr>\n",
       "      <th>0</th>\n",
       "      <td>10002</td>\n",
       "      <td>INFLATABLE POLITICAL GLOBE</td>\n",
       "      <td>8479</td>\n",
       "      <td>6638.27</td>\n",
       "    </tr>\n",
       "    <tr>\n",
       "      <th>1</th>\n",
       "      <td>10080</td>\n",
       "      <td>GROOVY CACTUS INFLATABLE</td>\n",
       "      <td>303</td>\n",
       "      <td>124.61</td>\n",
       "    </tr>\n",
       "    <tr>\n",
       "      <th>2</th>\n",
       "      <td>10109</td>\n",
       "      <td>BENDY COLOUR PENCILS</td>\n",
       "      <td>4</td>\n",
       "      <td>1.68</td>\n",
       "    </tr>\n",
       "    <tr>\n",
       "      <th>3</th>\n",
       "      <td>10120</td>\n",
       "      <td>DOGGY RUBBER</td>\n",
       "      <td>648</td>\n",
       "      <td>136.08</td>\n",
       "    </tr>\n",
       "    <tr>\n",
       "      <th>4</th>\n",
       "      <td>10123C</td>\n",
       "      <td>HEARTS WRAPPING TAPE</td>\n",
       "      <td>628</td>\n",
       "      <td>226.76</td>\n",
       "    </tr>\n",
       "    <tr>\n",
       "      <th>...</th>\n",
       "      <td>...</td>\n",
       "      <td>...</td>\n",
       "      <td>...</td>\n",
       "      <td>...</td>\n",
       "    </tr>\n",
       "    <tr>\n",
       "      <th>5310</th>\n",
       "      <td>PADS</td>\n",
       "      <td>PADS TO MATCH ALL CUSHIONS</td>\n",
       "      <td>18</td>\n",
       "      <td>0.00</td>\n",
       "    </tr>\n",
       "    <tr>\n",
       "      <th>5311</th>\n",
       "      <td>POST</td>\n",
       "      <td>POSTAGE</td>\n",
       "      <td>5235</td>\n",
       "      <td>124648.04</td>\n",
       "    </tr>\n",
       "    <tr>\n",
       "      <th>5312</th>\n",
       "      <td>SP1002</td>\n",
       "      <td>KID'S CHALKBOARD/EASEL</td>\n",
       "      <td>5</td>\n",
       "      <td>14.75</td>\n",
       "    </tr>\n",
       "    <tr>\n",
       "      <th>5313</th>\n",
       "      <td>TEST001</td>\n",
       "      <td>This is a test product.</td>\n",
       "      <td>60</td>\n",
       "      <td>225.00</td>\n",
       "    </tr>\n",
       "    <tr>\n",
       "      <th>5314</th>\n",
       "      <td>TEST002</td>\n",
       "      <td>This is a test product.</td>\n",
       "      <td>1</td>\n",
       "      <td>1.00</td>\n",
       "    </tr>\n",
       "  </tbody>\n",
       "</table>\n",
       "<p>5315 rows × 4 columns</p>\n",
       "</div>"
      ],
      "text/plain": [
       "     stock_code                  description  total_quantity  total_payments\n",
       "0         10002  INFLATABLE POLITICAL GLOBE             8479         6638.27\n",
       "1         10080     GROOVY CACTUS INFLATABLE             303          124.61\n",
       "2         10109         BENDY COLOUR PENCILS               4            1.68\n",
       "3         10120                 DOGGY RUBBER             648          136.08\n",
       "4        10123C        HEARTS WRAPPING TAPE              628          226.76\n",
       "...         ...                          ...             ...             ...\n",
       "5310       PADS   PADS TO MATCH ALL CUSHIONS              18            0.00\n",
       "5311       POST                      POSTAGE            5235       124648.04\n",
       "5312     SP1002       KID'S CHALKBOARD/EASEL               5           14.75\n",
       "5313    TEST001      This is a test product.              60          225.00\n",
       "5314    TEST002      This is a test product.               1            1.00\n",
       "\n",
       "[5315 rows x 4 columns]"
      ]
     },
     "execution_count": 15,
     "metadata": {},
     "output_type": "execute_result"
    }
   ],
   "source": [
    "# объединяю общие данные в одну таблицу\n",
    "\n",
    "total_revenue_per_product = pd.merge(total_units_per_product,\n",
    "                       total_revenue_per_product,\n",
    "                       how ='inner',\n",
    "                       on = 'stock_code')\n",
    "    \n",
    "\"\"\" Неоднозначная ситуация, не знаю что делать - в колонке 'stock_code' неуникальные значения\"\"\"\n",
    "    \n",
    "total_revenue_per_product = pd.merge(total_revenue_per_product, products_description,\n",
    "                       how ='left',\n",
    "                       on = 'stock_code')\n",
    "\n",
    "# и меняю стобцы местами - для удобства\n",
    "total_revenue_per_product = total_revenue_per_product[['stock_code','description', 'total_quantity', 'total_payments' ]]\n",
    "total_revenue_per_product"
   ]
  },
  {
   "cell_type": "code",
   "execution_count": 16,
   "metadata": {
    "scrolled": false
   },
   "outputs": [
    {
     "name": "stdout",
     "output_type": "stream",
     "text": [
      "<class 'pandas.core.frame.DataFrame'>\n",
      "Int64Index: 5315 entries, 0 to 5314\n",
      "Data columns (total 4 columns):\n",
      " #   Column          Non-Null Count  Dtype  \n",
      "---  ------          --------------  -----  \n",
      " 0   stock_code      5315 non-null   object \n",
      " 1   description     5315 non-null   object \n",
      " 2   total_quantity  5315 non-null   int64  \n",
      " 3   total_payments  5315 non-null   float64\n",
      "dtypes: float64(1), int64(1), object(2)\n",
      "memory usage: 207.6+ KB\n"
     ]
    },
    {
     "data": {
      "text/html": [
       "<div>\n",
       "<style scoped>\n",
       "    .dataframe tbody tr th:only-of-type {\n",
       "        vertical-align: middle;\n",
       "    }\n",
       "\n",
       "    .dataframe tbody tr th {\n",
       "        vertical-align: top;\n",
       "    }\n",
       "\n",
       "    .dataframe thead th {\n",
       "        text-align: right;\n",
       "    }\n",
       "</style>\n",
       "<table border=\"1\" class=\"dataframe\">\n",
       "  <thead>\n",
       "    <tr style=\"text-align: right;\">\n",
       "      <th></th>\n",
       "      <th>stock_code</th>\n",
       "      <th>description</th>\n",
       "      <th>total_quantity</th>\n",
       "      <th>total_payments</th>\n",
       "    </tr>\n",
       "  </thead>\n",
       "  <tbody>\n",
       "    <tr>\n",
       "      <th>count</th>\n",
       "      <td>5315</td>\n",
       "      <td>5315</td>\n",
       "      <td>5315.000000</td>\n",
       "      <td>5315.000000</td>\n",
       "    </tr>\n",
       "    <tr>\n",
       "      <th>unique</th>\n",
       "      <td>4631</td>\n",
       "      <td>5283</td>\n",
       "      <td>NaN</td>\n",
       "      <td>NaN</td>\n",
       "    </tr>\n",
       "    <tr>\n",
       "      <th>top</th>\n",
       "      <td>20685</td>\n",
       "      <td>COLOURING PENCILS BROWN TUBE</td>\n",
       "      <td>NaN</td>\n",
       "      <td>NaN</td>\n",
       "    </tr>\n",
       "    <tr>\n",
       "      <th>freq</th>\n",
       "      <td>4</td>\n",
       "      <td>3</td>\n",
       "      <td>NaN</td>\n",
       "      <td>NaN</td>\n",
       "    </tr>\n",
       "    <tr>\n",
       "      <th>mean</th>\n",
       "      <td>NaN</td>\n",
       "      <td>NaN</td>\n",
       "      <td>2554.687488</td>\n",
       "      <td>4344.022909</td>\n",
       "    </tr>\n",
       "    <tr>\n",
       "      <th>std</th>\n",
       "      <td>NaN</td>\n",
       "      <td>NaN</td>\n",
       "      <td>6382.474845</td>\n",
       "      <td>11522.337078</td>\n",
       "    </tr>\n",
       "    <tr>\n",
       "      <th>min</th>\n",
       "      <td>NaN</td>\n",
       "      <td>NaN</td>\n",
       "      <td>1.000000</td>\n",
       "      <td>0.000000</td>\n",
       "    </tr>\n",
       "    <tr>\n",
       "      <th>25%</th>\n",
       "      <td>NaN</td>\n",
       "      <td>NaN</td>\n",
       "      <td>145.000000</td>\n",
       "      <td>306.575000</td>\n",
       "    </tr>\n",
       "    <tr>\n",
       "      <th>50%</th>\n",
       "      <td>NaN</td>\n",
       "      <td>NaN</td>\n",
       "      <td>735.000000</td>\n",
       "      <td>1157.900000</td>\n",
       "    </tr>\n",
       "    <tr>\n",
       "      <th>75%</th>\n",
       "      <td>NaN</td>\n",
       "      <td>NaN</td>\n",
       "      <td>2266.500000</td>\n",
       "      <td>3701.300000</td>\n",
       "    </tr>\n",
       "    <tr>\n",
       "      <th>max</th>\n",
       "      <td>NaN</td>\n",
       "      <td>NaN</td>\n",
       "      <td>105185.000000</td>\n",
       "      <td>277656.250000</td>\n",
       "    </tr>\n",
       "  </tbody>\n",
       "</table>\n",
       "</div>"
      ],
      "text/plain": [
       "       stock_code                   description  total_quantity  \\\n",
       "count        5315                          5315     5315.000000   \n",
       "unique       4631                          5283             NaN   \n",
       "top         20685  COLOURING PENCILS BROWN TUBE             NaN   \n",
       "freq            4                             3             NaN   \n",
       "mean          NaN                           NaN     2554.687488   \n",
       "std           NaN                           NaN     6382.474845   \n",
       "min           NaN                           NaN        1.000000   \n",
       "25%           NaN                           NaN      145.000000   \n",
       "50%           NaN                           NaN      735.000000   \n",
       "75%           NaN                           NaN     2266.500000   \n",
       "max           NaN                           NaN   105185.000000   \n",
       "\n",
       "        total_payments  \n",
       "count      5315.000000  \n",
       "unique             NaN  \n",
       "top                NaN  \n",
       "freq               NaN  \n",
       "mean       4344.022909  \n",
       "std       11522.337078  \n",
       "min           0.000000  \n",
       "25%         306.575000  \n",
       "50%        1157.900000  \n",
       "75%        3701.300000  \n",
       "max      277656.250000  "
      ]
     },
     "execution_count": 16,
     "metadata": {},
     "output_type": "execute_result"
    }
   ],
   "source": [
    "# проверяю данные\n",
    "\n",
    "total_revenue_per_product.info()\n",
    "total_revenue_per_product.describe(include='all')"
   ]
  },
  {
   "cell_type": "code",
   "execution_count": 17,
   "metadata": {
    "scrolled": true
   },
   "outputs": [
    {
     "data": {
      "text/html": [
       "<div>\n",
       "<style scoped>\n",
       "    .dataframe tbody tr th:only-of-type {\n",
       "        vertical-align: middle;\n",
       "    }\n",
       "\n",
       "    .dataframe tbody tr th {\n",
       "        vertical-align: top;\n",
       "    }\n",
       "\n",
       "    .dataframe thead th {\n",
       "        text-align: right;\n",
       "    }\n",
       "</style>\n",
       "<table border=\"1\" class=\"dataframe\">\n",
       "  <thead>\n",
       "    <tr style=\"text-align: right;\">\n",
       "      <th></th>\n",
       "      <th>stock_code</th>\n",
       "      <th>description</th>\n",
       "      <th>total_payments</th>\n",
       "      <th>total_quantity</th>\n",
       "    </tr>\n",
       "  </thead>\n",
       "  <tbody>\n",
       "    <tr>\n",
       "      <th>0</th>\n",
       "      <td>10002</td>\n",
       "      <td>INFLATABLE POLITICAL GLOBE</td>\n",
       "      <td>6638.27</td>\n",
       "      <td>8479</td>\n",
       "    </tr>\n",
       "    <tr>\n",
       "      <th>1</th>\n",
       "      <td>10080</td>\n",
       "      <td>GROOVY CACTUS INFLATABLE</td>\n",
       "      <td>124.61</td>\n",
       "      <td>303</td>\n",
       "    </tr>\n",
       "    <tr>\n",
       "      <th>2</th>\n",
       "      <td>10109</td>\n",
       "      <td>BENDY COLOUR PENCILS</td>\n",
       "      <td>1.68</td>\n",
       "      <td>4</td>\n",
       "    </tr>\n",
       "    <tr>\n",
       "      <th>3</th>\n",
       "      <td>10120</td>\n",
       "      <td>DOGGY RUBBER</td>\n",
       "      <td>136.08</td>\n",
       "      <td>648</td>\n",
       "    </tr>\n",
       "    <tr>\n",
       "      <th>4</th>\n",
       "      <td>10123C</td>\n",
       "      <td>HEARTS WRAPPING TAPE</td>\n",
       "      <td>226.76</td>\n",
       "      <td>628</td>\n",
       "    </tr>\n",
       "    <tr>\n",
       "      <th>...</th>\n",
       "      <td>...</td>\n",
       "      <td>...</td>\n",
       "      <td>...</td>\n",
       "      <td>...</td>\n",
       "    </tr>\n",
       "    <tr>\n",
       "      <th>5310</th>\n",
       "      <td>PADS</td>\n",
       "      <td>PADS TO MATCH ALL CUSHIONS</td>\n",
       "      <td>0.00</td>\n",
       "      <td>18</td>\n",
       "    </tr>\n",
       "    <tr>\n",
       "      <th>5311</th>\n",
       "      <td>POST</td>\n",
       "      <td>POSTAGE</td>\n",
       "      <td>124648.04</td>\n",
       "      <td>5235</td>\n",
       "    </tr>\n",
       "    <tr>\n",
       "      <th>5312</th>\n",
       "      <td>SP1002</td>\n",
       "      <td>KID'S CHALKBOARD/EASEL</td>\n",
       "      <td>14.75</td>\n",
       "      <td>5</td>\n",
       "    </tr>\n",
       "    <tr>\n",
       "      <th>5313</th>\n",
       "      <td>TEST001</td>\n",
       "      <td>This is a test product.</td>\n",
       "      <td>225.00</td>\n",
       "      <td>60</td>\n",
       "    </tr>\n",
       "    <tr>\n",
       "      <th>5314</th>\n",
       "      <td>TEST002</td>\n",
       "      <td>This is a test product.</td>\n",
       "      <td>1.00</td>\n",
       "      <td>1</td>\n",
       "    </tr>\n",
       "  </tbody>\n",
       "</table>\n",
       "<p>5315 rows × 4 columns</p>\n",
       "</div>"
      ],
      "text/plain": [
       "     stock_code                  description  total_payments  total_quantity\n",
       "0         10002  INFLATABLE POLITICAL GLOBE          6638.27            8479\n",
       "1         10080     GROOVY CACTUS INFLATABLE          124.61             303\n",
       "2         10109         BENDY COLOUR PENCILS            1.68               4\n",
       "3         10120                 DOGGY RUBBER          136.08             648\n",
       "4        10123C        HEARTS WRAPPING TAPE           226.76             628\n",
       "...         ...                          ...             ...             ...\n",
       "5310       PADS   PADS TO MATCH ALL CUSHIONS            0.00              18\n",
       "5311       POST                      POSTAGE       124648.04            5235\n",
       "5312     SP1002       KID'S CHALKBOARD/EASEL           14.75               5\n",
       "5313    TEST001      This is a test product.          225.00              60\n",
       "5314    TEST002      This is a test product.            1.00               1\n",
       "\n",
       "[5315 rows x 4 columns]"
      ]
     },
     "execution_count": 17,
     "metadata": {},
     "output_type": "execute_result"
    }
   ],
   "source": [
    "# 2 вариант - с группировкой и аггрегацией. И, конечно, с неуникальными товарами.\n",
    "\n",
    "total_revenue_per_product = products.groupby(['stock_code', 'description'])\\\n",
    "    .agg({'total_payments': 'sum',\n",
    "          'quantity': 'sum'})\\\n",
    "    .rename(columns={'quantity': 'total_quantity'})\\\n",
    "    .reset_index()\n",
    "\n",
    "total_revenue_per_product"
   ]
  },
  {
   "cell_type": "code",
   "execution_count": 18,
   "metadata": {
    "scrolled": true
   },
   "outputs": [
    {
     "data": {
      "text/html": [
       "<div>\n",
       "<style scoped>\n",
       "    .dataframe tbody tr th:only-of-type {\n",
       "        vertical-align: middle;\n",
       "    }\n",
       "\n",
       "    .dataframe tbody tr th {\n",
       "        vertical-align: top;\n",
       "    }\n",
       "\n",
       "    .dataframe thead th {\n",
       "        text-align: right;\n",
       "    }\n",
       "</style>\n",
       "<table border=\"1\" class=\"dataframe\">\n",
       "  <thead>\n",
       "    <tr style=\"text-align: right;\">\n",
       "      <th></th>\n",
       "      <th>stock_code</th>\n",
       "      <th>total_payments</th>\n",
       "      <th>total_quantity</th>\n",
       "    </tr>\n",
       "  </thead>\n",
       "  <tbody>\n",
       "    <tr>\n",
       "      <th>0</th>\n",
       "      <td>10002</td>\n",
       "      <td>6638.27</td>\n",
       "      <td>8479</td>\n",
       "    </tr>\n",
       "    <tr>\n",
       "      <th>1</th>\n",
       "      <td>10080</td>\n",
       "      <td>124.61</td>\n",
       "      <td>303</td>\n",
       "    </tr>\n",
       "    <tr>\n",
       "      <th>2</th>\n",
       "      <td>10109</td>\n",
       "      <td>1.68</td>\n",
       "      <td>4</td>\n",
       "    </tr>\n",
       "    <tr>\n",
       "      <th>3</th>\n",
       "      <td>10120</td>\n",
       "      <td>136.08</td>\n",
       "      <td>648</td>\n",
       "    </tr>\n",
       "    <tr>\n",
       "      <th>4</th>\n",
       "      <td>10123C</td>\n",
       "      <td>226.76</td>\n",
       "      <td>628</td>\n",
       "    </tr>\n",
       "    <tr>\n",
       "      <th>...</th>\n",
       "      <td>...</td>\n",
       "      <td>...</td>\n",
       "      <td>...</td>\n",
       "    </tr>\n",
       "    <tr>\n",
       "      <th>4626</th>\n",
       "      <td>PADS</td>\n",
       "      <td>0.00</td>\n",
       "      <td>18</td>\n",
       "    </tr>\n",
       "    <tr>\n",
       "      <th>4627</th>\n",
       "      <td>POST</td>\n",
       "      <td>124648.04</td>\n",
       "      <td>5235</td>\n",
       "    </tr>\n",
       "    <tr>\n",
       "      <th>4628</th>\n",
       "      <td>SP1002</td>\n",
       "      <td>14.75</td>\n",
       "      <td>5</td>\n",
       "    </tr>\n",
       "    <tr>\n",
       "      <th>4629</th>\n",
       "      <td>TEST001</td>\n",
       "      <td>225.00</td>\n",
       "      <td>60</td>\n",
       "    </tr>\n",
       "    <tr>\n",
       "      <th>4630</th>\n",
       "      <td>TEST002</td>\n",
       "      <td>1.00</td>\n",
       "      <td>1</td>\n",
       "    </tr>\n",
       "  </tbody>\n",
       "</table>\n",
       "<p>4631 rows × 3 columns</p>\n",
       "</div>"
      ],
      "text/plain": [
       "     stock_code  total_payments  total_quantity\n",
       "0         10002         6638.27            8479\n",
       "1         10080          124.61             303\n",
       "2         10109            1.68               4\n",
       "3         10120          136.08             648\n",
       "4        10123C          226.76             628\n",
       "...         ...             ...             ...\n",
       "4626       PADS            0.00              18\n",
       "4627       POST       124648.04            5235\n",
       "4628     SP1002           14.75               5\n",
       "4629    TEST001          225.00              60\n",
       "4630    TEST002            1.00               1\n",
       "\n",
       "[4631 rows x 3 columns]"
      ]
     },
     "execution_count": 18,
     "metadata": {},
     "output_type": "execute_result"
    }
   ],
   "source": [
    "# и всё же уберу столбец  'description', тем самым считая только уникальные товары\n",
    "\n",
    "total_revenue_per_product = products.groupby(['stock_code'])\\\n",
    "    .agg({'total_payments': 'sum',\n",
    "          'quantity': 'sum'})\\\n",
    "    .rename(columns={'quantity': 'total_quantity'})\\\n",
    "    .reset_index()\n",
    "\n",
    "total_revenue_per_product"
   ]
  },
  {
   "cell_type": "code",
   "execution_count": 19,
   "metadata": {
    "scrolled": true
   },
   "outputs": [
    {
     "data": {
      "image/png": "[encoded data removed]",
      "text/plain": [
       "<Figure size 432x288 with 1 Axes>"
      ]
     },
     "metadata": {
      "needs_background": "light"
     },
     "output_type": "display_data"
    }
   ],
   "source": [
    "# смотрю, как распределены товары по общему доходу\n",
    "\n",
    "import matplotlib.pyplot as plt\n",
    "\n",
    "# уменьшаю разброс вручную, чтобы увидеть основное распределение\n",
    "plt.boxplot(total_revenue_per_product[total_revenue_per_product['total_payments'] < 5_000]['total_payments'])\n",
    "plt.show()"
   ]
  },
  {
   "cell_type": "code",
   "execution_count": 20,
   "metadata": {},
   "outputs": [
    {
     "data": {
      "image/png": "[encoded data removed]",
      "text/plain": [
       "<Figure size 720x360 with 1 Axes>"
      ]
     },
     "metadata": {
      "needs_background": "light"
     },
     "output_type": "display_data"
    }
   ],
   "source": [
    "# строю гистограмму и смотрю распределение товаров по доходу\n",
    "\n",
    "plt.figure(figsize=(10, 5)) # размерность\n",
    "plt.title('Распределение товаров по величине суммарного дохода') \n",
    "plt.xlabel('Размер суммарного дохода на позицию') \n",
    "plt.ylabel('Количество товаров') \n",
    "plt.grid() # сетка\n",
    "\n",
    "# уменьшаю разброс вручную, чтобы увидеть левый хвост распределения\n",
    "plt.hist(total_revenue_per_product[total_revenue_per_product['total_payments'] < 20_000]['total_payments'], bins=100)\n",
    "\n",
    "plt.show()"
   ]
  },
  {
   "cell_type": "markdown",
   "metadata": {},
   "source": [
    "<div class=\"alert block-alert alert-warning\">\n",
    "Вижу, что большая часть товаров приносит доход примерно до 1800руб на позицию\n",
    "</div>"
   ]
  },
  {
   "cell_type": "code",
   "execution_count": 21,
   "metadata": {},
   "outputs": [
    {
     "data": {
      "image/png": "[encoded data removed]",
      "text/plain": [
       "<Figure size 432x288 with 1 Axes>"
      ]
     },
     "metadata": {
      "needs_background": "light"
     },
     "output_type": "display_data"
    }
   ],
   "source": [
    "# смотрю, как распределены товары количеству товарных единиц\n",
    "\n",
    "# уменьшаю разброс вручную, чтобы увидеть основное распределение\n",
    "plt.boxplot(total_revenue_per_product[total_revenue_per_product['total_quantity'] < 4_000]['total_quantity'])\n",
    "plt.show()"
   ]
  },
  {
   "cell_type": "code",
   "execution_count": 22,
   "metadata": {
    "scrolled": true
   },
   "outputs": [
    {
     "data": {
      "image/png": "[encoded data removed]",
      "text/plain": [
       "<Figure size 720x360 with 1 Axes>"
      ]
     },
     "metadata": {
      "needs_background": "light"
     },
     "output_type": "display_data"
    }
   ],
   "source": [
    "# строю гистограмму и смотрю распределение товаров по количеству товарных единиц\n",
    "\n",
    "plt.figure(figsize=(10, 5)) # размерность\n",
    "plt.title('Распределение частоты товарных единиц') \n",
    "plt.xlabel('Количество товара') \n",
    "plt.ylabel('Частотность') \n",
    "plt.grid() # сетка\n",
    "\n",
    "# уменьшаю разброс вручную, чтобы увидеть левый хвост распределения\n",
    "plt.hist(total_revenue_per_product[total_revenue_per_product['total_quantity'] < 10_000]['total_quantity'], bins=100)\n",
    "\n",
    "plt.show()"
   ]
  },
  {
   "cell_type": "markdown",
   "metadata": {},
   "source": [
    "<div class=\"alert block-alert alert-warning\">\n",
    "Вижу преобладание товаров в партиях до 1500шт\n",
    "</div>"
   ]
  },
  {
   "cell_type": "markdown",
   "metadata": {
    "id": "sNrdX2bXoVlH"
   },
   "source": [
    "---\n",
    "## Задание 3\n",
    "\n",
    "__Найди нарастающий итог по процентам__\n",
    "\n",
    "1. Отсортируй датафрейм по доходу в нисходящем порядке \n",
    "2. Найди процент дохода каждого товара в общем доходе \n",
    "3. Сделай нарастающий итог (running total) по процентам каждого товара, для этого найди в интернете и примени метод для расчета кумулятивной суммы в `pandas`. \n",
    "\n",
    "\n",
    "Нарастающий итог — это представление данных, в котором мы видим динамику нарастания или убывания суммы от начала отсчета до конца. Получаем мы эту кумулятивную сумму, прибавлением поочередно каждого следующего элемента к сумме предыдущих.  \n",
    "\n"
   ]
  },
  {
   "cell_type": "code",
   "execution_count": 23,
   "metadata": {
    "id": "WdZrwaMzoVlH",
    "scrolled": false
   },
   "outputs": [
    {
     "data": {
      "text/html": [
       "<div>\n",
       "<style scoped>\n",
       "    .dataframe tbody tr th:only-of-type {\n",
       "        vertical-align: middle;\n",
       "    }\n",
       "\n",
       "    .dataframe tbody tr th {\n",
       "        vertical-align: top;\n",
       "    }\n",
       "\n",
       "    .dataframe thead th {\n",
       "        text-align: right;\n",
       "    }\n",
       "</style>\n",
       "<table border=\"1\" class=\"dataframe\">\n",
       "  <thead>\n",
       "    <tr style=\"text-align: right;\">\n",
       "      <th></th>\n",
       "      <th>stock_code</th>\n",
       "      <th>total_payments</th>\n",
       "      <th>total_quantity</th>\n",
       "    </tr>\n",
       "  </thead>\n",
       "  <tbody>\n",
       "    <tr>\n",
       "      <th>1609</th>\n",
       "      <td>22423</td>\n",
       "      <td>277656.25</td>\n",
       "      <td>24139</td>\n",
       "    </tr>\n",
       "    <tr>\n",
       "      <th>4080</th>\n",
       "      <td>85123A</td>\n",
       "      <td>247203.36</td>\n",
       "      <td>91814</td>\n",
       "    </tr>\n",
       "    <tr>\n",
       "      <th>2726</th>\n",
       "      <td>23843</td>\n",
       "      <td>168469.60</td>\n",
       "      <td>80995</td>\n",
       "    </tr>\n",
       "    <tr>\n",
       "      <th>4058</th>\n",
       "      <td>85099B</td>\n",
       "      <td>167920.64</td>\n",
       "      <td>93436</td>\n",
       "    </tr>\n",
       "  </tbody>\n",
       "</table>\n",
       "</div>"
      ],
      "text/plain": [
       "     stock_code  total_payments  total_quantity\n",
       "1609      22423       277656.25           24139\n",
       "4080     85123A       247203.36           91814\n",
       "2726      23843       168469.60           80995\n",
       "4058     85099B       167920.64           93436"
      ]
     },
     "execution_count": 23,
     "metadata": {},
     "output_type": "execute_result"
    }
   ],
   "source": [
    "# сортирую дата-фрейм по 'total_payments' в порядке убывания\n",
    "\n",
    "total_payments_per_product = total_revenue_per_product.sort_values(by='total_payments', ascending=False)\n",
    "total_payments_per_product.head(4)\n"
   ]
  },
  {
   "cell_type": "code",
   "execution_count": 24,
   "metadata": {
    "id": "1d9E9cC9oVlI",
    "scrolled": false
   },
   "outputs": [
    {
     "data": {
      "text/html": [
       "<div>\n",
       "<style scoped>\n",
       "    .dataframe tbody tr th:only-of-type {\n",
       "        vertical-align: middle;\n",
       "    }\n",
       "\n",
       "    .dataframe tbody tr th {\n",
       "        vertical-align: top;\n",
       "    }\n",
       "\n",
       "    .dataframe thead th {\n",
       "        text-align: right;\n",
       "    }\n",
       "</style>\n",
       "<table border=\"1\" class=\"dataframe\">\n",
       "  <thead>\n",
       "    <tr style=\"text-align: right;\">\n",
       "      <th></th>\n",
       "      <th>stock_code</th>\n",
       "      <th>total_payments</th>\n",
       "      <th>total_quantity</th>\n",
       "      <th>revenue_percentage</th>\n",
       "    </tr>\n",
       "  </thead>\n",
       "  <tbody>\n",
       "    <tr>\n",
       "      <th>1609</th>\n",
       "      <td>22423</td>\n",
       "      <td>277656.25</td>\n",
       "      <td>24139</td>\n",
       "      <td>1.598040</td>\n",
       "    </tr>\n",
       "    <tr>\n",
       "      <th>4080</th>\n",
       "      <td>85123A</td>\n",
       "      <td>247203.36</td>\n",
       "      <td>91814</td>\n",
       "      <td>1.422769</td>\n",
       "    </tr>\n",
       "    <tr>\n",
       "      <th>2726</th>\n",
       "      <td>23843</td>\n",
       "      <td>168469.60</td>\n",
       "      <td>80995</td>\n",
       "      <td>0.969620</td>\n",
       "    </tr>\n",
       "    <tr>\n",
       "      <th>4058</th>\n",
       "      <td>85099B</td>\n",
       "      <td>167920.64</td>\n",
       "      <td>93436</td>\n",
       "      <td>0.966461</td>\n",
       "    </tr>\n",
       "  </tbody>\n",
       "</table>\n",
       "</div>"
      ],
      "text/plain": [
       "     stock_code  total_payments  total_quantity  revenue_percentage\n",
       "1609      22423       277656.25           24139            1.598040\n",
       "4080     85123A       247203.36           91814            1.422769\n",
       "2726      23843       168469.60           80995            0.969620\n",
       "4058     85099B       167920.64           93436            0.966461"
      ]
     },
     "execution_count": 24,
     "metadata": {},
     "output_type": "execute_result"
    }
   ],
   "source": [
    "# нахожу процент дохода для каждого товара \n",
    "\n",
    "total_payments_sum = total_payments_per_product['total_payments'].sum() # сумма доходов от всех товаров\n",
    "total_payments_per_product['revenue_percentage']\\\n",
    "    = total_payments_per_product['total_payments'] / total_payments_sum * 100\n",
    "total_payments_per_product.head(4)"
   ]
  },
  {
   "cell_type": "code",
   "execution_count": 25,
   "metadata": {
    "id": "tKDduqtmoVlI",
    "scrolled": true
   },
   "outputs": [
    {
     "data": {
      "text/html": [
       "<div>\n",
       "<style scoped>\n",
       "    .dataframe tbody tr th:only-of-type {\n",
       "        vertical-align: middle;\n",
       "    }\n",
       "\n",
       "    .dataframe tbody tr th {\n",
       "        vertical-align: top;\n",
       "    }\n",
       "\n",
       "    .dataframe thead th {\n",
       "        text-align: right;\n",
       "    }\n",
       "</style>\n",
       "<table border=\"1\" class=\"dataframe\">\n",
       "  <thead>\n",
       "    <tr style=\"text-align: right;\">\n",
       "      <th></th>\n",
       "      <th>stock_code</th>\n",
       "      <th>total_payments</th>\n",
       "      <th>total_quantity</th>\n",
       "      <th>revenue_percentage</th>\n",
       "      <th>cumulative_sum_revenue</th>\n",
       "    </tr>\n",
       "  </thead>\n",
       "  <tbody>\n",
       "    <tr>\n",
       "      <th>4630</th>\n",
       "      <td>TEST002</td>\n",
       "      <td>1.00</td>\n",
       "      <td>1</td>\n",
       "      <td>0.000006</td>\n",
       "      <td>99.999991</td>\n",
       "    </tr>\n",
       "    <tr>\n",
       "      <th>247</th>\n",
       "      <td>20721</td>\n",
       "      <td>0.85</td>\n",
       "      <td>1</td>\n",
       "      <td>0.000005</td>\n",
       "      <td>99.999996</td>\n",
       "    </tr>\n",
       "    <tr>\n",
       "      <th>3419</th>\n",
       "      <td>84205C</td>\n",
       "      <td>0.38</td>\n",
       "      <td>2</td>\n",
       "      <td>0.000002</td>\n",
       "      <td>99.999998</td>\n",
       "    </tr>\n",
       "    <tr>\n",
       "      <th>2847</th>\n",
       "      <td>35930</td>\n",
       "      <td>0.38</td>\n",
       "      <td>1</td>\n",
       "      <td>0.000002</td>\n",
       "      <td>100.000000</td>\n",
       "    </tr>\n",
       "    <tr>\n",
       "      <th>4626</th>\n",
       "      <td>PADS</td>\n",
       "      <td>0.00</td>\n",
       "      <td>18</td>\n",
       "      <td>0.000000</td>\n",
       "      <td>100.000000</td>\n",
       "    </tr>\n",
       "  </tbody>\n",
       "</table>\n",
       "</div>"
      ],
      "text/plain": [
       "     stock_code  total_payments  total_quantity  revenue_percentage  \\\n",
       "4630    TEST002            1.00               1            0.000006   \n",
       "247       20721            0.85               1            0.000005   \n",
       "3419     84205C            0.38               2            0.000002   \n",
       "2847      35930            0.38               1            0.000002   \n",
       "4626       PADS            0.00              18            0.000000   \n",
       "\n",
       "      cumulative_sum_revenue  \n",
       "4630               99.999991  \n",
       "247                99.999996  \n",
       "3419               99.999998  \n",
       "2847              100.000000  \n",
       "4626              100.000000  "
      ]
     },
     "execution_count": 25,
     "metadata": {},
     "output_type": "execute_result"
    }
   ],
   "source": [
    "# считаю кумулятивную сумму процента дохода для каждого товара ('revenue_percentage')\n",
    "\n",
    "total_payments_per_product['cumulative_sum_revenue'] = total_payments_per_product['revenue_percentage'].cumsum()\n",
    "total_payments_per_product.tail()"
   ]
  },
  {
   "cell_type": "markdown",
   "metadata": {},
   "source": [
    "<div class=\"alert block-alert alert-warning\">\n",
    "<b>Проверка суммы доходов всех товаров:</b><br>\n",
    "    - суммы дохода по всем товарам, подсчитанные на начальных данных и взятых из текущей таблицы равны и составляют 17374804.25<br>\n",
    "    - кумулятивная сумма по нарастающим процентам в конце списка равна 100%\n",
    "</div>"
   ]
  },
  {
   "cell_type": "code",
   "execution_count": 26,
   "metadata": {
    "scrolled": false
   },
   "outputs": [
    {
     "data": {
      "text/plain": [
       "17374804.250000004"
      ]
     },
     "execution_count": 26,
     "metadata": {},
     "output_type": "execute_result"
    }
   ],
   "source": [
    "(products['quantity'] * products['price']).sum() # беру изначальные данные - количество товара и их цену"
   ]
  },
  {
   "cell_type": "code",
   "execution_count": 27,
   "metadata": {
    "scrolled": false
   },
   "outputs": [
    {
     "data": {
      "text/plain": [
       "17374804.250000007"
      ]
     },
     "execution_count": 27,
     "metadata": {},
     "output_type": "execute_result"
    }
   ],
   "source": [
    "total_payments_per_product['total_payments'].sum() # данные из рабочей таблицы, по которой считаю кумулятивную сумму"
   ]
  },
  {
   "cell_type": "markdown",
   "metadata": {
    "id": "kM4OXMDXoVlI"
   },
   "source": [
    "---\n",
    "## Задание 4\n",
    "\n",
    "__Пометь товары метками `'A'`, `'B'`, `'C'` в зависимости от нарастающего итога__\n",
    "\n",
    "1. Напиши функцию, которая будет помечать товары с нарастающим итогом ниже или равно 80% как группу `'A'`, от 80%-95% — как `'B'` и остальные как `'C'`"
   ]
  },
  {
   "cell_type": "code",
   "execution_count": 28,
   "metadata": {},
   "outputs": [],
   "source": [
    "# total_payments_per_product.drop(columns=['revenue'])"
   ]
  },
  {
   "cell_type": "code",
   "execution_count": 29,
   "metadata": {
    "id": "3i9wyQQpoVlI"
   },
   "outputs": [],
   "source": [
    "# функция маркирует значения по порогу\n",
    "\n",
    "def threshold_marking(x):\n",
    "    if x <= 80:\n",
    "        return 'A'\n",
    "    elif x <= 95:\n",
    "        return 'B'\n",
    "    else:\n",
    "        return 'C'"
   ]
  },
  {
   "cell_type": "code",
   "execution_count": 30,
   "metadata": {},
   "outputs": [],
   "source": [
    "# создаю новый столбец с маркерами\n",
    "\n",
    "total_payments_per_product['revenue'] = total_payments_per_product['cumulative_sum_revenue'].apply(threshold_marking)"
   ]
  },
  {
   "cell_type": "code",
   "execution_count": 31,
   "metadata": {
    "scrolled": false
   },
   "outputs": [
    {
     "data": {
      "text/html": [
       "<div>\n",
       "<style scoped>\n",
       "    .dataframe tbody tr th:only-of-type {\n",
       "        vertical-align: middle;\n",
       "    }\n",
       "\n",
       "    .dataframe tbody tr th {\n",
       "        vertical-align: top;\n",
       "    }\n",
       "\n",
       "    .dataframe thead th {\n",
       "        text-align: right;\n",
       "    }\n",
       "</style>\n",
       "<table border=\"1\" class=\"dataframe\">\n",
       "  <thead>\n",
       "    <tr style=\"text-align: right;\">\n",
       "      <th></th>\n",
       "      <th>stock_code</th>\n",
       "      <th>total_payments</th>\n",
       "      <th>total_quantity</th>\n",
       "      <th>revenue_percentage</th>\n",
       "      <th>cumulative_sum_revenue</th>\n",
       "      <th>revenue</th>\n",
       "    </tr>\n",
       "  </thead>\n",
       "  <tbody>\n",
       "    <tr>\n",
       "      <th>2930</th>\n",
       "      <td>37479B</td>\n",
       "      <td>1011.48</td>\n",
       "      <td>1240</td>\n",
       "      <td>0.005822</td>\n",
       "      <td>95.437641</td>\n",
       "      <td>C</td>\n",
       "    </tr>\n",
       "    <tr>\n",
       "      <th>893</th>\n",
       "      <td>21558</td>\n",
       "      <td>9236.10</td>\n",
       "      <td>3880</td>\n",
       "      <td>0.053158</td>\n",
       "      <td>61.622573</td>\n",
       "      <td>A</td>\n",
       "    </tr>\n",
       "    <tr>\n",
       "      <th>479</th>\n",
       "      <td>21056</td>\n",
       "      <td>4681.63</td>\n",
       "      <td>525</td>\n",
       "      <td>0.026945</td>\n",
       "      <td>76.254820</td>\n",
       "      <td>A</td>\n",
       "    </tr>\n",
       "    <tr>\n",
       "      <th>2708</th>\n",
       "      <td>23579</td>\n",
       "      <td>276.15</td>\n",
       "      <td>149</td>\n",
       "      <td>0.001589</td>\n",
       "      <td>99.314119</td>\n",
       "      <td>C</td>\n",
       "    </tr>\n",
       "    <tr>\n",
       "      <th>290</th>\n",
       "      <td>20775</td>\n",
       "      <td>749.85</td>\n",
       "      <td>3509</td>\n",
       "      <td>0.004316</td>\n",
       "      <td>96.942855</td>\n",
       "      <td>C</td>\n",
       "    </tr>\n",
       "  </tbody>\n",
       "</table>\n",
       "</div>"
      ],
      "text/plain": [
       "     stock_code  total_payments  total_quantity  revenue_percentage  \\\n",
       "2930     37479B         1011.48            1240            0.005822   \n",
       "893       21558         9236.10            3880            0.053158   \n",
       "479       21056         4681.63             525            0.026945   \n",
       "2708      23579          276.15             149            0.001589   \n",
       "290       20775          749.85            3509            0.004316   \n",
       "\n",
       "      cumulative_sum_revenue revenue  \n",
       "2930               95.437641       C  \n",
       "893                61.622573       A  \n",
       "479                76.254820       A  \n",
       "2708               99.314119       C  \n",
       "290                96.942855       C  "
      ]
     },
     "execution_count": 31,
     "metadata": {},
     "output_type": "execute_result"
    }
   ],
   "source": [
    "total_payments_per_product.sample(5)"
   ]
  },
  {
   "cell_type": "markdown",
   "metadata": {
    "id": "numdHWgvoVlI"
   },
   "source": [
    "---\n",
    "## Задание 5\n",
    "\n",
    "__Найди нарастающий итог по количеству товарных единиц и пометь товары метками `'A'`, `'B'`, `'C'`, отмечая тем самым популярность товара__\n",
    "\n",
    "1. Отсортируй предыдущий датафрейм с данными о доходе теперь по количеству товаров\n",
    "2. Найди процент каждого товара в общем количестве\n",
    "3. Найди нарастающий итог по количеству\n",
    "4. Напиши функцию с теми же параметрами, что и у дохода\n",
    "5. Отметь группу"
   ]
  },
  {
   "cell_type": "code",
   "execution_count": 32,
   "metadata": {
    "id": "9XIzKrqUoVlJ",
    "scrolled": true
   },
   "outputs": [
    {
     "data": {
      "text/html": [
       "<div>\n",
       "<style scoped>\n",
       "    .dataframe tbody tr th:only-of-type {\n",
       "        vertical-align: middle;\n",
       "    }\n",
       "\n",
       "    .dataframe tbody tr th {\n",
       "        vertical-align: top;\n",
       "    }\n",
       "\n",
       "    .dataframe thead th {\n",
       "        text-align: right;\n",
       "    }\n",
       "</style>\n",
       "<table border=\"1\" class=\"dataframe\">\n",
       "  <thead>\n",
       "    <tr style=\"text-align: right;\">\n",
       "      <th></th>\n",
       "      <th>stock_code</th>\n",
       "      <th>total_payments</th>\n",
       "      <th>total_quantity</th>\n",
       "    </tr>\n",
       "  </thead>\n",
       "  <tbody>\n",
       "    <tr>\n",
       "      <th>3410</th>\n",
       "      <td>84077</td>\n",
       "      <td>24098.03</td>\n",
       "      <td>105185</td>\n",
       "    </tr>\n",
       "    <tr>\n",
       "      <th>4058</th>\n",
       "      <td>85099B</td>\n",
       "      <td>167920.64</td>\n",
       "      <td>93436</td>\n",
       "    </tr>\n",
       "    <tr>\n",
       "      <th>4080</th>\n",
       "      <td>85123A</td>\n",
       "      <td>247203.36</td>\n",
       "      <td>91814</td>\n",
       "    </tr>\n",
       "    <tr>\n",
       "      <th>601</th>\n",
       "      <td>21212</td>\n",
       "      <td>43390.03</td>\n",
       "      <td>89850</td>\n",
       "    </tr>\n",
       "  </tbody>\n",
       "</table>\n",
       "</div>"
      ],
      "text/plain": [
       "     stock_code  total_payments  total_quantity\n",
       "3410      84077        24098.03          105185\n",
       "4058     85099B       167920.64           93436\n",
       "4080     85123A       247203.36           91814\n",
       "601       21212        43390.03           89850"
      ]
     },
     "execution_count": 32,
     "metadata": {},
     "output_type": "execute_result"
    }
   ],
   "source": [
    "# сортирую дата-фрейм по количеству товаров ('total_quantity') в порядке убывания\n",
    "\n",
    "total_quantity_per_product = total_revenue_per_product.sort_values(by='total_quantity', ascending=False)\n",
    "total_quantity_per_product.head(4)"
   ]
  },
  {
   "cell_type": "code",
   "execution_count": 33,
   "metadata": {
    "scrolled": true
   },
   "outputs": [
    {
     "data": {
      "text/html": [
       "<div>\n",
       "<style scoped>\n",
       "    .dataframe tbody tr th:only-of-type {\n",
       "        vertical-align: middle;\n",
       "    }\n",
       "\n",
       "    .dataframe tbody tr th {\n",
       "        vertical-align: top;\n",
       "    }\n",
       "\n",
       "    .dataframe thead th {\n",
       "        text-align: right;\n",
       "    }\n",
       "</style>\n",
       "<table border=\"1\" class=\"dataframe\">\n",
       "  <thead>\n",
       "    <tr style=\"text-align: right;\">\n",
       "      <th></th>\n",
       "      <th>stock_code</th>\n",
       "      <th>total_payments</th>\n",
       "      <th>total_quantity</th>\n",
       "      <th>quantity_percentage</th>\n",
       "    </tr>\n",
       "  </thead>\n",
       "  <tbody>\n",
       "    <tr>\n",
       "      <th>3410</th>\n",
       "      <td>84077</td>\n",
       "      <td>24098.03</td>\n",
       "      <td>105185</td>\n",
       "      <td>0.999031</td>\n",
       "    </tr>\n",
       "    <tr>\n",
       "      <th>4058</th>\n",
       "      <td>85099B</td>\n",
       "      <td>167920.64</td>\n",
       "      <td>93436</td>\n",
       "      <td>0.887441</td>\n",
       "    </tr>\n",
       "    <tr>\n",
       "      <th>4080</th>\n",
       "      <td>85123A</td>\n",
       "      <td>247203.36</td>\n",
       "      <td>91814</td>\n",
       "      <td>0.872035</td>\n",
       "    </tr>\n",
       "    <tr>\n",
       "      <th>601</th>\n",
       "      <td>21212</td>\n",
       "      <td>43390.03</td>\n",
       "      <td>89850</td>\n",
       "      <td>0.853381</td>\n",
       "    </tr>\n",
       "  </tbody>\n",
       "</table>\n",
       "</div>"
      ],
      "text/plain": [
       "     stock_code  total_payments  total_quantity  quantity_percentage\n",
       "3410      84077        24098.03          105185             0.999031\n",
       "4058     85099B       167920.64           93436             0.887441\n",
       "4080     85123A       247203.36           91814             0.872035\n",
       "601       21212        43390.03           89850             0.853381"
      ]
     },
     "execution_count": 33,
     "metadata": {},
     "output_type": "execute_result"
    }
   ],
   "source": [
    "# нахожу процент количества товаров для каждого товара \n",
    "\n",
    "total_quantity_sum = total_quantity_per_product['total_quantity'].sum()\n",
    "total_quantity_per_product['quantity_percentage'] = total_quantity_per_product['total_quantity'] / total_quantity_sum * 100\n",
    "total_quantity_per_product.head(4)"
   ]
  },
  {
   "cell_type": "code",
   "execution_count": 34,
   "metadata": {},
   "outputs": [
    {
     "data": {
      "text/html": [
       "<div>\n",
       "<style scoped>\n",
       "    .dataframe tbody tr th:only-of-type {\n",
       "        vertical-align: middle;\n",
       "    }\n",
       "\n",
       "    .dataframe tbody tr th {\n",
       "        vertical-align: top;\n",
       "    }\n",
       "\n",
       "    .dataframe thead th {\n",
       "        text-align: right;\n",
       "    }\n",
       "</style>\n",
       "<table border=\"1\" class=\"dataframe\">\n",
       "  <thead>\n",
       "    <tr style=\"text-align: right;\">\n",
       "      <th></th>\n",
       "      <th>stock_code</th>\n",
       "      <th>total_payments</th>\n",
       "      <th>total_quantity</th>\n",
       "      <th>quantity_percentage</th>\n",
       "      <th>cumulative_sum_quantity</th>\n",
       "    </tr>\n",
       "  </thead>\n",
       "  <tbody>\n",
       "    <tr>\n",
       "      <th>3410</th>\n",
       "      <td>84077</td>\n",
       "      <td>24098.03</td>\n",
       "      <td>105185</td>\n",
       "      <td>0.999031</td>\n",
       "      <td>0.999031</td>\n",
       "    </tr>\n",
       "    <tr>\n",
       "      <th>4058</th>\n",
       "      <td>85099B</td>\n",
       "      <td>167920.64</td>\n",
       "      <td>93436</td>\n",
       "      <td>0.887441</td>\n",
       "      <td>1.886471</td>\n",
       "    </tr>\n",
       "    <tr>\n",
       "      <th>4080</th>\n",
       "      <td>85123A</td>\n",
       "      <td>247203.36</td>\n",
       "      <td>91814</td>\n",
       "      <td>0.872035</td>\n",
       "      <td>2.758506</td>\n",
       "    </tr>\n",
       "    <tr>\n",
       "      <th>601</th>\n",
       "      <td>21212</td>\n",
       "      <td>43390.03</td>\n",
       "      <td>89850</td>\n",
       "      <td>0.853381</td>\n",
       "      <td>3.611888</td>\n",
       "    </tr>\n",
       "  </tbody>\n",
       "</table>\n",
       "</div>"
      ],
      "text/plain": [
       "     stock_code  total_payments  total_quantity  quantity_percentage  \\\n",
       "3410      84077        24098.03          105185             0.999031   \n",
       "4058     85099B       167920.64           93436             0.887441   \n",
       "4080     85123A       247203.36           91814             0.872035   \n",
       "601       21212        43390.03           89850             0.853381   \n",
       "\n",
       "      cumulative_sum_quantity  \n",
       "3410                 0.999031  \n",
       "4058                 1.886471  \n",
       "4080                 2.758506  \n",
       "601                  3.611888  "
      ]
     },
     "execution_count": 34,
     "metadata": {},
     "output_type": "execute_result"
    }
   ],
   "source": [
    "# считаю кумулятивную сумму количества товаров  для каждого товара ('quantity_percentage')\n",
    "\n",
    "total_quantity_per_product['cumulative_sum_quantity'] = total_quantity_per_product['quantity_percentage'].cumsum()\n",
    "total_quantity_per_product.head(4)"
   ]
  },
  {
   "cell_type": "code",
   "execution_count": 35,
   "metadata": {
    "id": "hqZWts1-oVlJ"
   },
   "outputs": [],
   "source": [
    "# создаю новый столбец с маркерами\n",
    " \n",
    "total_quantity_per_product['popularity'] = total_quantity_per_product['cumulative_sum_quantity'].apply(threshold_marking)"
   ]
  },
  {
   "cell_type": "code",
   "execution_count": 36,
   "metadata": {
    "scrolled": true
   },
   "outputs": [
    {
     "data": {
      "text/html": [
       "<div>\n",
       "<style scoped>\n",
       "    .dataframe tbody tr th:only-of-type {\n",
       "        vertical-align: middle;\n",
       "    }\n",
       "\n",
       "    .dataframe tbody tr th {\n",
       "        vertical-align: top;\n",
       "    }\n",
       "\n",
       "    .dataframe thead th {\n",
       "        text-align: right;\n",
       "    }\n",
       "</style>\n",
       "<table border=\"1\" class=\"dataframe\">\n",
       "  <thead>\n",
       "    <tr style=\"text-align: right;\">\n",
       "      <th></th>\n",
       "      <th>stock_code</th>\n",
       "      <th>total_payments</th>\n",
       "      <th>total_quantity</th>\n",
       "      <th>quantity_percentage</th>\n",
       "      <th>cumulative_sum_quantity</th>\n",
       "      <th>popularity</th>\n",
       "    </tr>\n",
       "  </thead>\n",
       "  <tbody>\n",
       "    <tr>\n",
       "      <th>439</th>\n",
       "      <td>20993</td>\n",
       "      <td>1305.49</td>\n",
       "      <td>10945</td>\n",
       "      <td>0.103954</td>\n",
       "      <td>41.822332</td>\n",
       "      <td>A</td>\n",
       "    </tr>\n",
       "    <tr>\n",
       "      <th>1887</th>\n",
       "      <td>22713</td>\n",
       "      <td>2214.28</td>\n",
       "      <td>5625</td>\n",
       "      <td>0.053425</td>\n",
       "      <td>60.363539</td>\n",
       "      <td>A</td>\n",
       "    </tr>\n",
       "    <tr>\n",
       "      <th>1774</th>\n",
       "      <td>22598</td>\n",
       "      <td>881.72</td>\n",
       "      <td>1562</td>\n",
       "      <td>0.014836</td>\n",
       "      <td>87.504437</td>\n",
       "      <td>B</td>\n",
       "    </tr>\n",
       "    <tr>\n",
       "      <th>4293</th>\n",
       "      <td>90029</td>\n",
       "      <td>178.50</td>\n",
       "      <td>21</td>\n",
       "      <td>0.000199</td>\n",
       "      <td>99.959786</td>\n",
       "      <td>C</td>\n",
       "    </tr>\n",
       "    <tr>\n",
       "      <th>3391</th>\n",
       "      <td>82616C</td>\n",
       "      <td>791.22</td>\n",
       "      <td>539</td>\n",
       "      <td>0.005119</td>\n",
       "      <td>96.692499</td>\n",
       "      <td>C</td>\n",
       "    </tr>\n",
       "  </tbody>\n",
       "</table>\n",
       "</div>"
      ],
      "text/plain": [
       "     stock_code  total_payments  total_quantity  quantity_percentage  \\\n",
       "439       20993         1305.49           10945             0.103954   \n",
       "1887      22713         2214.28            5625             0.053425   \n",
       "1774      22598          881.72            1562             0.014836   \n",
       "4293      90029          178.50              21             0.000199   \n",
       "3391     82616C          791.22             539             0.005119   \n",
       "\n",
       "      cumulative_sum_quantity popularity  \n",
       "439                 41.822332          A  \n",
       "1887                60.363539          A  \n",
       "1774                87.504437          B  \n",
       "4293                99.959786          C  \n",
       "3391                96.692499          C  "
      ]
     },
     "execution_count": 36,
     "metadata": {},
     "output_type": "execute_result"
    }
   ],
   "source": [
    "total_quantity_per_product.sample(5)"
   ]
  },
  {
   "cell_type": "markdown",
   "metadata": {
    "id": "GpdRHaB1oVlJ"
   },
   "source": [
    "---\n",
    "## Задание 6\n",
    "\n",
    "__Объедини группы и проанализируй__\n",
    "\n",
    "1. Создай серию `group` с объединенным столбцом отметок популярности и доходности товаров\n",
    "2. Посчитай количество вхождений каждой сгруппированной пары\n",
    "3. Какие группы непопулярны и приносят мало дохода?\n",
    "4. На каких группах товаров нужно сфокусироваться при составлении плана закупок?"
   ]
  },
  {
   "cell_type": "code",
   "execution_count": 37,
   "metadata": {
    "id": "iN0Qnm0ZoVlJ"
   },
   "outputs": [],
   "source": [
    "# объединяю таблицы и создаю столбец совмещённых отметок популярности и доходности товаров\n",
    "\n",
    "group_per_product = pd.merge(total_payments_per_product[['stock_code', 'revenue']], total_quantity_per_product[['stock_code', 'popularity']],\n",
    "              on = 'stock_code',\n",
    "              how = 'inner')\n",
    "group_per_product_series = group_per_product['revenue'] + group_per_product['popularity']"
   ]
  },
  {
   "cell_type": "code",
   "execution_count": 38,
   "metadata": {
    "scrolled": false
   },
   "outputs": [
    {
     "data": {
      "text/plain": [
       "CC    2041\n",
       "AA     685\n",
       "BB     577\n",
       "BC     377\n",
       "CB     303\n",
       "BA     270\n",
       "AB     248\n",
       "CA      72\n",
       "AC      58\n",
       "dtype: int64"
      ]
     },
     "execution_count": 38,
     "metadata": {},
     "output_type": "execute_result"
    }
   ],
   "source": [
    "# считаю количество вхождений каждой сгрупированной пары\n",
    "\n",
    "group_per_product_series.value_counts()"
   ]
  },
  {
   "cell_type": "markdown",
   "metadata": {},
   "source": [
    "<div class=\"alert block-alert alert-warning\">\n",
    "Оутсайдеры -<br>\n",
    "    - товары AC: с доходностью <= 80% и популярностью > 95%<br>\n",
    "    - товары СА: с доходностью > 95% и популярностью < 80%<br><br>\n",
    "Лидеры - <br>\n",
    "    - товары СC: с доходностью > 95% и популярностью > 95%<br><br>\n",
    "Остальные середнячки\n",
    "</div>"
   ]
  },
  {
   "cell_type": "code",
   "execution_count": 39,
   "metadata": {},
   "outputs": [],
   "source": [
    "# завожу словарь с расшифровкой маркеров\n",
    "\n",
    "revenue_dict = {\"A\": \"с низкой доходностью\", 'B': \"со средней доходностью\", 'C': \"с высокой доходностью\",}\n",
    "popularity_dict = {'A': \"разовые\",'B': \"редкие\", 'C': \"частые\",}"
   ]
  },
  {
   "cell_type": "code",
   "execution_count": 40,
   "metadata": {
    "scrolled": true
   },
   "outputs": [],
   "source": [
    "# опять считаю количество вхождений каждой пары, но получаю dataframe\n",
    "\n",
    "group_per_product = group_per_product.groupby(['revenue', 'popularity'],  as_index=False)['stock_code'].count()"
   ]
  },
  {
   "cell_type": "code",
   "execution_count": 41,
   "metadata": {},
   "outputs": [],
   "source": [
    "# заменяю условные обозначения на словарные\n",
    "\n",
    "group_per_product['revenue'] = group_per_product['revenue'].map(revenue_dict)\n",
    "group_per_product['popularity'] = group_per_product['popularity'].map(popularity_dict)"
   ]
  },
  {
   "cell_type": "code",
   "execution_count": 42,
   "metadata": {},
   "outputs": [
    {
     "data": {
      "text/html": [
       "<div>\n",
       "<style scoped>\n",
       "    .dataframe tbody tr th:only-of-type {\n",
       "        vertical-align: middle;\n",
       "    }\n",
       "\n",
       "    .dataframe tbody tr th {\n",
       "        vertical-align: top;\n",
       "    }\n",
       "\n",
       "    .dataframe thead th {\n",
       "        text-align: right;\n",
       "    }\n",
       "</style>\n",
       "<table border=\"1\" class=\"dataframe\">\n",
       "  <thead>\n",
       "    <tr style=\"text-align: right;\">\n",
       "      <th>popularity</th>\n",
       "      <th>разовые</th>\n",
       "      <th>редкие</th>\n",
       "      <th>частые</th>\n",
       "    </tr>\n",
       "    <tr>\n",
       "      <th>revenue</th>\n",
       "      <th></th>\n",
       "      <th></th>\n",
       "      <th></th>\n",
       "    </tr>\n",
       "  </thead>\n",
       "  <tbody>\n",
       "    <tr>\n",
       "      <th>с высокой доходностью</th>\n",
       "      <td>72</td>\n",
       "      <td>303</td>\n",
       "      <td>2041</td>\n",
       "    </tr>\n",
       "    <tr>\n",
       "      <th>со средней доходностью</th>\n",
       "      <td>270</td>\n",
       "      <td>577</td>\n",
       "      <td>377</td>\n",
       "    </tr>\n",
       "    <tr>\n",
       "      <th>с низкой доходностью</th>\n",
       "      <td>685</td>\n",
       "      <td>248</td>\n",
       "      <td>58</td>\n",
       "    </tr>\n",
       "  </tbody>\n",
       "</table>\n",
       "</div>"
      ],
      "text/plain": [
       "popularity              разовые  редкие  частые\n",
       "revenue                                        \n",
       "с высокой доходностью        72     303    2041\n",
       "со средней доходностью      270     577     377\n",
       "с низкой доходностью        685     248      58"
      ]
     },
     "execution_count": 42,
     "metadata": {},
     "output_type": "execute_result"
    }
   ],
   "source": [
    "# собираю сводную таблицу\n",
    "\n",
    "pivot_product = group_per_product.pivot(index = 'revenue', \n",
    "                columns = 'popularity', \n",
    "                values = \"stock_code\").reset_index()\n",
    "\n",
    "# pivot_product.fillna(0, inplace=True)\n",
    "pivot_product = pivot_product.set_index('revenue').sort_values(['частые'], ascending = False)\n",
    "pivot_product"
   ]
  },
  {
   "cell_type": "code",
   "execution_count": 43,
   "metadata": {},
   "outputs": [],
   "source": [
    "import seaborn as sns"
   ]
  },
  {
   "cell_type": "code",
   "execution_count": 44,
   "metadata": {
    "scrolled": true
   },
   "outputs": [
    {
     "data": {
      "image/png": "[encoded data removed]",
      "text/plain": [
       "<Figure size 720x360 with 2 Axes>"
      ]
     },
     "metadata": {
      "needs_background": "light"
     },
     "output_type": "display_data"
    }
   ],
   "source": [
    "# строю тепловую карту, наглядно подтверждаю предыдущие выводы о распределении товаров\n",
    "\n",
    "f, ax = plt.subplots(figsize=(10, 5)) # создаю фигуру и оси\n",
    "                     \n",
    "sns.heatmap(pivot_product, \n",
    "            annot=True,\n",
    "            cmap=\"YlOrRd\",\n",
    "            fmt='g',\n",
    "            annot_kws={'size':12}) # вручную задаю размер шрифта в ячейках\n",
    "            \n",
    "plt.title(\"ABC-анализ\")            \n",
    "plt.yticks(rotation=0) # вручную задаю угол подписей\n",
    "ax.xaxis.set_ticks_position('top') # указываю, что метки оси x должны быть наверху\n",
    "ax.xaxis.set_label_position('top') # указываю, что подпись оси x должна быть наверху\n",
    "            \n",
    "\n",
    "plt.ylabel(\"Доходность\")\n",
    "plt.xlabel(\"Популярность\")\n",
    "plt.show()"
   ]
  },
  {
   "cell_type": "markdown",
   "metadata": {},
   "source": [
    "<div class=\"alert block-alert alert-warning\">\n",
    "    <b>Выводы:</b><br><br>\n",
    "В общем у нас хорошая картина складывается по товарам с высокой доходностью - их много и они попуряны. Остаётся поддерживать на этом уровне.<br><br>\n",
    "По разовым товарам тоже хорошо, пусть их приобретают редко - погоды не сделает. Главное на них не тратить ресурсы. По популярности зависимость тоже хорошая - количество уменьшается с увеличением частоты.<br><br>\n",
    "По товарам средней доходности - хорошо бы сместить частотность вправо, сделать более попурярными. Но и сейчас не плохо.\n",
    "</div>"
   ]
  },
  {
   "cell_type": "markdown",
   "metadata": {
    "id": "9Iiu8wnDoVlK"
   },
   "source": [
    "---\n",
    "## Задание 7\n",
    "\n",
    "__Выгрузи данные по товарам с меткой по ABC-анализу__\n",
    "\n",
    "1. Объедини по `stock_code` в одной таблице `ABC-код`, описание товара и `ID `\n",
    "\n",
    "2. Выгрузи таблицу в `csv` для отправки в отдел закупок"
   ]
  },
  {
   "cell_type": "code",
   "execution_count": 45,
   "metadata": {},
   "outputs": [],
   "source": [
    "total_table = pd.merge(total_payments_per_product[['stock_code', 'revenue']], total_quantity_per_product[['stock_code', 'popularity']],\n",
    "              on = 'stock_code',\n",
    "              how = 'inner')"
   ]
  },
  {
   "cell_type": "code",
   "execution_count": 46,
   "metadata": {},
   "outputs": [],
   "source": [
    "total_table['revenue_popularity'] = total_table['revenue'] + total_table['popularity']"
   ]
  },
  {
   "cell_type": "code",
   "execution_count": 47,
   "metadata": {},
   "outputs": [
    {
     "data": {
      "text/html": [
       "<div>\n",
       "<style scoped>\n",
       "    .dataframe tbody tr th:only-of-type {\n",
       "        vertical-align: middle;\n",
       "    }\n",
       "\n",
       "    .dataframe tbody tr th {\n",
       "        vertical-align: top;\n",
       "    }\n",
       "\n",
       "    .dataframe thead th {\n",
       "        text-align: right;\n",
       "    }\n",
       "</style>\n",
       "<table border=\"1\" class=\"dataframe\">\n",
       "  <thead>\n",
       "    <tr style=\"text-align: right;\">\n",
       "      <th></th>\n",
       "      <th>revenue_popularity</th>\n",
       "      <th>description</th>\n",
       "    </tr>\n",
       "    <tr>\n",
       "      <th>stock_code</th>\n",
       "      <th></th>\n",
       "      <th></th>\n",
       "    </tr>\n",
       "  </thead>\n",
       "  <tbody>\n",
       "    <tr>\n",
       "      <th>90214K</th>\n",
       "      <td>CC</td>\n",
       "      <td>LETTER \"K\" BLING KEY RING</td>\n",
       "    </tr>\n",
       "    <tr>\n",
       "      <th>90200C</th>\n",
       "      <td>CC</td>\n",
       "      <td>BLUE SWEETHEART BRACELET</td>\n",
       "    </tr>\n",
       "    <tr>\n",
       "      <th>17014A</th>\n",
       "      <td>CC</td>\n",
       "      <td>ORIGAMI VANILLA INCENSE CONES</td>\n",
       "    </tr>\n",
       "    <tr>\n",
       "      <th>22087</th>\n",
       "      <td>AA</td>\n",
       "      <td>PAPER BUNTING WHITE LACE</td>\n",
       "    </tr>\n",
       "    <tr>\n",
       "      <th>90014A</th>\n",
       "      <td>CC</td>\n",
       "      <td>SILVER/MOP ORBIT NECKLACE</td>\n",
       "    </tr>\n",
       "  </tbody>\n",
       "</table>\n",
       "</div>"
      ],
      "text/plain": [
       "           revenue_popularity                    description\n",
       "stock_code                                                  \n",
       "90214K                     CC      LETTER \"K\" BLING KEY RING\n",
       "90200C                     CC       BLUE SWEETHEART BRACELET\n",
       "17014A                     CC  ORIGAMI VANILLA INCENSE CONES\n",
       "22087                      AA       PAPER BUNTING WHITE LACE\n",
       "90014A                     CC      SILVER/MOP ORBIT NECKLACE"
      ]
     },
     "execution_count": 47,
     "metadata": {},
     "output_type": "execute_result"
    }
   ],
   "source": [
    "\"\"\" Вспоминаю, что у меня есть таблица с описаниями товаров и объединяю её с предыдущей,\n",
    "    но также помню, что появляются неуникальные позиции товаров в таблице \"\"\"\n",
    "\n",
    "total_table = pd.merge(total_table[['stock_code', 'revenue_popularity']], products_description,\n",
    "              on = 'stock_code',\n",
    "              how = 'inner').set_index('stock_code')\n",
    "total_table.sample(5)"
   ]
  },
  {
   "cell_type": "code",
   "execution_count": 48,
   "metadata": {},
   "outputs": [],
   "source": [
    "# выгружаю в файл\n",
    "\n",
    "total_table.to_csv('ABC_products.csv')"
   ]
  }
 ],
 "metadata": {
  "colab": {
   "collapsed_sections": [],
   "name": "Skills_Python_5.1_homework.ipynb",
   "provenance": []
  },
  "kernelspec": {
   "display_name": "Python 3 (ipykernel)",
   "language": "python",
   "name": "python3"
  },
  "language_info": {
   "codemirror_mode": {
    "name": "ipython",
    "version": 3
   },
   "file_extension": ".py",
   "mimetype": "text/x-python",
   "name": "python",
   "nbconvert_exporter": "python",
   "pygments_lexer": "ipython3",
   "version": "3.9.10"
  }
 },
 "nbformat": 4,
 "nbformat_minor": 1
}
