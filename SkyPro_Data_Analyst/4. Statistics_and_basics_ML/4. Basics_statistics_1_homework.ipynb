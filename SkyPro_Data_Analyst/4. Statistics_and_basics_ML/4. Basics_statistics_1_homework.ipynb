{
 "cells": [
  {
   "cell_type": "markdown",
   "id": "d5dad23a",
   "metadata": {},
   "source": [
    "<div class=\"alert alert-block alert-success\"> \n",
    "<h1>Статистика - Домашнее задание 1</h1>\n",
    "</div>"
   ]
  },
  {
   "cell_type": "markdown",
   "id": "242eceff",
   "metadata": {},
   "source": [
    "### Задача 1\n",
    "\n",
    "Постройте в Python функцию **statistical_analysis**, которая будет проводить анализ выборки. \n",
    "\n",
    "**На вход она берет:**\n",
    "\n",
    "- один ряд в формате «список» или «кортеж».\n",
    "\n",
    "**И делает следующие шаги:**\n",
    "\n",
    "1. Проводит проверку на тип данных: если тип данных аргумента не list или tuple, то выводит ошибку «Нужен список или кортеж!»  \n",
    "2. Проводит проверку на длину ряда: если в нём 4 наблюдения или меньше, то выдает ошибку «Требуется более длинный ряд».\n",
    "3. Проводит преобразование типа данных «список» в тип данных Series (pandas).\n",
    "4. Для ряда выводит (с помощью print и расшифровки) среднее, дисперсию, стандартное отклонение.\n",
    "    \n",
    "    Также возвращает эти значения в return.\n",
    "    \n",
    "5. Для ряда возвращает в return квантильный анализ (все элементы вместе, в рамках одного array): \n",
    "    - медиану,\n",
    "    - все квартили (+ межквартильный размах),\n",
    "    - децили.\n",
    "    \n",
    "    Реализуйте квантильный анализ таким образом, чтобы ряд требуемых квантилей был по умолчанию установлен как q=[0.1,0.25,0.3,0.4,0.5,0.6,0.75,0.9] (в качестве аргумента функции **statistical_analysis**), но его можно было бы поменять.\n",
    "    \n",
    "    Также сделайте print всей информации по квантилям (максимально user-friendly), чтобы подписывалась отдельно медиана, отдельно — квартили, отдельно — все децили, отдельно — межквартильный размах.\n",
    "    \n",
    "6. Для ряда функция **statistical_analysis** строит гистограмму с помощью библиотеки seaborn.\n",
    "\n",
    "Найдите на [kaggle.com](http://kaggle.com) датасет и протестируйте вашу функцию на всех признаках, принадлежащих шкале отношений"
   ]
  },
  {
   "cell_type": "code",
   "execution_count": 1,
   "id": "a92adf69",
   "metadata": {},
   "outputs": [],
   "source": [
    "import pandas as pd\n",
    "import numpy as np\n",
    "import statistics as st\n",
    "import seaborn as sns\n",
    "import matplotlib.pyplot as plt\n",
    "sns.set() # устанавливаю тему Seaborn по умолчанию"
   ]
  },
  {
   "cell_type": "code",
   "execution_count": 2,
   "id": "4466d171",
   "metadata": {},
   "outputs": [],
   "source": [
    "# завожу списки - выборку для пример и значения децилей\n",
    "list_or_tuple_input = [1,3,4,5,7,8,9,8,7,6,5,4,3,2,1]\n",
    "list_of_quantiles = [0.1,0.25,0.3,0.4,0.5,0.6,0.75,0.9]"
   ]
  },
  {
   "cell_type": "code",
   "execution_count": 3,
   "id": "7ce702c7",
   "metadata": {},
   "outputs": [],
   "source": [
    "def statistical_analysis (list_or_tuple_input, list_of_quantiles):\n",
    "    \n",
    "    if type(list_or_tuple_input) not in (list, tuple): # проверяю, что на вход подан список или кортеж\n",
    "        return 'Нужен список или кортеж!'\n",
    "    elif len(list_or_tuple_input) <= 4: # проверяю, что количество элементов больше 4\n",
    "        return 'Требуется более длинный ряд' \n",
    "    else:\n",
    "        series_input = pd.DataFrame(list_or_tuple_input, columns = ['row_elements']) # меняю тип на pandas Series\n",
    "\n",
    "# базовая статистика\n",
    "\n",
    "        # считаю среднее, дисперсию, стандартное отклонение    \n",
    "        mean_value = series_input['row_elements'].mean()\n",
    "        variance_value = series_input['row_elements'].var()\n",
    "        st_deviation_value = series_input['row_elements'].std()\n",
    "\n",
    "        # считаю моду и медиану\n",
    "        mode_value = st.mode(series_input['row_elements'])\n",
    "        median_value = st.median(series_input['row_elements'])\n",
    "        quantile_analysis_array = np.array(median_value) # начинаю наполнять массив NumPy\n",
    "\n",
    "        # вывожу на печать параметры\n",
    "        print(\"Среднее = \", round(mean_value, 2),'\\n'\n",
    "                \"Дисперсия = \", round(variance_value, 2),'\\n'\n",
    "                \"Стандартное отклонение = \", round(st_deviation_value, 2),'\\n'\n",
    "                'Мода', mode_value)\n",
    "\n",
    "\n",
    "# квантильный анализ:\n",
    "\n",
    "        # считаю квартили\n",
    "        array_of_quartiles  = np.quantile(series_input['row_elements'], [0.25, 0.50, 0.75])\n",
    "        quantile_analysis_array = np.append(quantile_analysis_array, array_of_quartiles) # наполняю массив\n",
    "\n",
    "\n",
    "        # считаю межквартильный размах\n",
    "        interquartile_range = abs(array_of_quartiles[0] - array_of_quartiles[2])\n",
    "        quantile_analysis_array = np.append(quantile_analysis_array, interquartile_range) # наполняю массив\n",
    "\n",
    "\n",
    "        # считаю децили\n",
    "        array_of_deciles = np.quantile(series_input['row_elements'], list_of_quantiles)\n",
    "        quantile_analysis_array = np.append(quantile_analysis_array, array_of_deciles) # наполняю массив\n",
    "\n",
    "\n",
    "        # формирую список подписей\n",
    "        list_of_column_names = ['Медиана', '1 квартиль', '2 квартиль', '3 квартиль', 'Межквартильный размах']\n",
    "        l2 = list(map(str,list_of_quantiles)) # список децилей\n",
    "        l3 = ['дециль ' + direction for direction in l2] # добавляю к значениям децилей наименование\n",
    "        list_of_column_names.extend(list(map(str,l3))) # добавляю новые названия в список подписей\n",
    "\n",
    "\n",
    "        # перевожу array numpy в dataframe pandas\n",
    "        quantile_analysis_df = pd.DataFrame(quantile_analysis_array, index = list_of_column_names )\n",
    "\n",
    "        \n",
    "# вывожу гистограмму и датафрейм\n",
    "        sns.histplot(series_input['row_elements'], kde=True) # функция построения распределения\n",
    "        plt.title('Распределение элементов')\n",
    "        plt.rcParams[\"figure.figsize\"] = (12, 6)\n",
    "        plt.vlines(median_value, # отрисуем линию медианы\n",
    "                   ymin = 0, \n",
    "                   ymax = series_input['row_elements'].value_counts().max(), \n",
    "                   linestyles= '--', \n",
    "                   colors = 'red',\n",
    "                   label = 'Медиана')\n",
    "        plt.vlines(np.quantile(series_input['row_elements'], [0.25, 0.75]), # отрисуем квартили\n",
    "                   ymin = 0, \n",
    "                   ymax = series_input['row_elements'].value_counts().max(), \n",
    "                   linestyles= '--', \n",
    "                   colors = 'orange', \n",
    "                   label = 'Q1, Q3 -квартили')\n",
    "        plt.legend()\n",
    "        plt.show()    \n",
    "    \n",
    "    \n",
    "        print (quantile_analysis_df)\n",
    "\n",
    "        \n",
    "# возвращаю требуемые значения из функции   \n",
    "        return (mean_value, variance_value, st_deviation_value, quantile_analysis_array)     "
   ]
  },
  {
   "cell_type": "code",
   "execution_count": 4,
   "id": "3c71979d",
   "metadata": {
    "scrolled": true
   },
   "outputs": [
    {
     "name": "stdout",
     "output_type": "stream",
     "text": [
      "Среднее =  4.87 \n",
      "Дисперсия =  6.7 \n",
      "Стандартное отклонение =  2.59 \n",
      "Мода 1\n"
     ]
    },
    {
     "data": {
      "image/png": "[encoded data removed]",
      "text/plain": [
       "<Figure size 432x288 with 1 Axes>"
      ]
     },
     "metadata": {},
     "output_type": "display_data"
    },
    {
     "name": "stdout",
     "output_type": "stream",
     "text": [
      "                         0\n",
      "Медиана                5.0\n",
      "1 квартиль             3.0\n",
      "2 квартиль             5.0\n",
      "3 квартиль             7.0\n",
      "Межквартильный размах  4.0\n",
      "дециль 0.1             1.4\n",
      "дециль 0.25            3.0\n",
      "дециль 0.3             3.2\n",
      "дециль 0.4             4.0\n",
      "дециль 0.5             5.0\n",
      "дециль 0.6             5.4\n",
      "дециль 0.75            7.0\n",
      "дециль 0.9             8.0\n"
     ]
    },
    {
     "data": {
      "text/plain": [
       "(4.866666666666666,\n",
       " 6.695238095238095,\n",
       " 2.587515815456612,\n",
       " array([5. , 3. , 5. , 7. , 4. , 1.4, 3. , 3.2, 4. , 5. , 5.4, 7. , 8. ]))"
      ]
     },
     "execution_count": 4,
     "metadata": {},
     "output_type": "execute_result"
    }
   ],
   "source": [
    "statistical_analysis(list_or_tuple_input, list_of_quantiles )"
   ]
  },
  {
   "cell_type": "markdown",
   "id": "bc3e3c9f",
   "metadata": {},
   "source": [
    "<div class=\"alert alert-block alert-info\">\n",
    "    </div>\n",
    "\n",
    "### Загружаю [датасет](https://www.kaggle.com/nickdoulos/greeces-earthquakes)"
   ]
  },
  {
   "cell_type": "code",
   "execution_count": 5,
   "id": "af16533e",
   "metadata": {
    "scrolled": true
   },
   "outputs": [
    {
     "data": {
      "text/html": [
       "<div>\n",
       "<style scoped>\n",
       "    .dataframe tbody tr th:only-of-type {\n",
       "        vertical-align: middle;\n",
       "    }\n",
       "\n",
       "    .dataframe tbody tr th {\n",
       "        vertical-align: top;\n",
       "    }\n",
       "\n",
       "    .dataframe thead th {\n",
       "        text-align: right;\n",
       "    }\n",
       "</style>\n",
       "<table border=\"1\" class=\"dataframe\">\n",
       "  <thead>\n",
       "    <tr style=\"text-align: right;\">\n",
       "      <th></th>\n",
       "      <th>MAGNITUDE</th>\n",
       "    </tr>\n",
       "  </thead>\n",
       "  <tbody>\n",
       "    <tr>\n",
       "      <th>count</th>\n",
       "      <td>251263.000000</td>\n",
       "    </tr>\n",
       "    <tr>\n",
       "      <th>mean</th>\n",
       "      <td>2.179961</td>\n",
       "    </tr>\n",
       "    <tr>\n",
       "      <th>std</th>\n",
       "      <td>0.823466</td>\n",
       "    </tr>\n",
       "    <tr>\n",
       "      <th>min</th>\n",
       "      <td>0.000000</td>\n",
       "    </tr>\n",
       "    <tr>\n",
       "      <th>25%</th>\n",
       "      <td>1.500000</td>\n",
       "    </tr>\n",
       "    <tr>\n",
       "      <th>50%</th>\n",
       "      <td>2.000000</td>\n",
       "    </tr>\n",
       "    <tr>\n",
       "      <th>75%</th>\n",
       "      <td>2.900000</td>\n",
       "    </tr>\n",
       "    <tr>\n",
       "      <th>max</th>\n",
       "      <td>6.700000</td>\n",
       "    </tr>\n",
       "  </tbody>\n",
       "</table>\n",
       "</div>"
      ],
      "text/plain": [
       "           MAGNITUDE\n",
       "count  251263.000000\n",
       "mean        2.179961\n",
       "std         0.823466\n",
       "min         0.000000\n",
       "25%         1.500000\n",
       "50%         2.000000\n",
       "75%         2.900000\n",
       "max         6.700000"
      ]
     },
     "execution_count": 5,
     "metadata": {},
     "output_type": "execute_result"
    }
   ],
   "source": [
    "# загружаю один столбец с магнитудой\n",
    "earthquakes_data = pd.read_csv('Earthquakes.csv', usecols = ['MAGNITUDE'])\n",
    "earthquakes_data.describe( )"
   ]
  },
  {
   "cell_type": "code",
   "execution_count": 6,
   "id": "d9d901a1",
   "metadata": {},
   "outputs": [],
   "source": [
    "# преобразую в список\n",
    "earthquakes_data = earthquakes_data.values.tolist()"
   ]
  },
  {
   "cell_type": "code",
   "execution_count": 7,
   "id": "c76e3349",
   "metadata": {
    "scrolled": false
   },
   "outputs": [
    {
     "name": "stdout",
     "output_type": "stream",
     "text": [
      "Среднее =  2.18 \n",
      "Дисперсия =  0.68 \n",
      "Стандартное отклонение =  0.82 \n",
      "Мода 1.6\n"
     ]
    },
    {
     "data": {
      "image/png": "[encoded data removed]",
      "text/plain": [
       "<Figure size 864x432 with 1 Axes>"
      ]
     },
     "metadata": {},
     "output_type": "display_data"
    },
    {
     "name": "stdout",
     "output_type": "stream",
     "text": [
      "                         0\n",
      "Медиана                2.0\n",
      "1 квартиль             1.5\n",
      "2 квартиль             2.0\n",
      "3 квартиль             2.9\n",
      "Межквартильный размах  1.4\n",
      "дециль 0.1             1.2\n",
      "дециль 0.25            1.5\n",
      "дециль 0.3             1.6\n",
      "дециль 0.4             1.8\n",
      "дециль 0.5             2.0\n",
      "дециль 0.6             2.4\n",
      "дециль 0.75            2.9\n",
      "дециль 0.9             3.3\n"
     ]
    },
    {
     "data": {
      "text/plain": [
       "(2.1799612358365548,\n",
       " 0.6780969857059046,\n",
       " 0.8234664447965713,\n",
       " array([2. , 1.5, 2. , 2.9, 1.4, 1.2, 1.5, 1.6, 1.8, 2. , 2.4, 2.9, 3.3]))"
      ]
     },
     "execution_count": 7,
     "metadata": {},
     "output_type": "execute_result"
    }
   ],
   "source": [
    "statistical_analysis(earthquakes_data, list_of_quantiles )"
   ]
  }
 ],
 "metadata": {
  "kernelspec": {
   "display_name": "Python 3 (ipykernel)",
   "language": "python",
   "name": "python3"
  },
  "language_info": {
   "codemirror_mode": {
    "name": "ipython",
    "version": 3
   },
   "file_extension": ".py",
   "mimetype": "text/x-python",
   "name": "python",
   "nbconvert_exporter": "python",
   "pygments_lexer": "ipython3",
   "version": "3.9.10"
  }
 },
 "nbformat": 4,
 "nbformat_minor": 5
}
