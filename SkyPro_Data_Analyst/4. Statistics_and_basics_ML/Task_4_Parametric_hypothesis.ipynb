{
 "cells": [
  {
   "cell_type": "markdown",
   "id": "d5dad23a",
   "metadata": {},
   "source": [
    "<div class=\"alert block-alert alert-success\">\n",
    "    <h1>Task 4 - Testing of parametric hypotheses</h1><span class=\"tocSkip\">\n",
    "</div>"
   ]
  },
  {
   "cell_type": "markdown",
   "id": "242eceff",
   "metadata": {},
   "source": [
    "1. Постройте функцию, которая на вход берет два ряда и уровень значимости (альфа — это аргумент функции, который по умолчанию принимает значение 5%).\n",
    "    \n",
    "    Функция возвращает значение двухвыборочного t-критерия и соответствующее ему p_value. Также функция принтит, принимается ли нулевая гипотеза о равенстве средних или нет на основании полученного p_value.\n",
    "    \n",
    "    Примените данную функцию к файлу «Кредиты» (те же ряды, что и на вебинаре). \n",
    "    \n",
    "2. Исследуйте принимаемость гипотезы H₀ в зависимости от размера выборки:\n",
    "    - Создайте пустой лист **samples** и с помощью цикла while заполните его значения от 200 до размера выборки с шагом в 50 (так как объем выборки не кратен 50, внесите также в конце в этот лист оригинальный объем выборки).\n",
    "    - Создайте датафрейм **df_res** с тремя колонками: sample_size, p_value, try.\n",
    "    - Создайте цикл на 50 итераций: прогоните 50 раз t-test для каждого размера выборки. Попытка записывается в колонку try, размер выборки — в sample_size и результирующее p_value — в колонку p_value.\n",
    "    - Сгруппируйте **df_res** и получите датафрейм **df_gr**, в котором для каждого размера выборки будет рассчитано среднее p_value (по всем попыткам).\n",
    "    - Постройте график (lineplot из seaborn), который покажет зависимость усредненного p_value от размера выборки."
   ]
  },
  {
   "cell_type": "markdown",
   "id": "5b5d0cd0",
   "metadata": {},
   "source": [
    "<div class=\"alert alert-block alert-info\"> \n",
    "</div>"
   ]
  },
  {
   "cell_type": "markdown",
   "id": "fc7a6192",
   "metadata": {
    "toc": true
   },
   "source": [
    "<h1>Table of Contents<span class=\"tocSkip\"></span></h1>\n",
    "<div class=\"toc\"><ul class=\"toc-item\"><li><span><a href=\"#Функция-для-нахождения-двухвыборочного-t-критерия-и-p_value.\" data-toc-modified-id=\"Функция-для-нахождения-двухвыборочного-t-критерия-и-p_value.-1\"><span class=\"toc-item-num\">1&nbsp;&nbsp;</span>Функция для нахождения двухвыборочного t-критерия и p_value.</a></span></li><li><span><a href=\"#Проверка-нулевой-гипотезы-о-равенстве-двух-выборок\" data-toc-modified-id=\"Проверка-нулевой-гипотезы-о-равенстве-двух-выборок-2\"><span class=\"toc-item-num\">2&nbsp;&nbsp;</span>Проверка нулевой гипотезы о равенстве двух выборок</a></span></li><li><span><a href=\"#Принимаемость-гипотезы-H₀-в-зависимости-от-размера-выборки\" data-toc-modified-id=\"Принимаемость-гипотезы-H₀-в-зависимости-от-размера-выборки-3\"><span class=\"toc-item-num\">3&nbsp;&nbsp;</span>Принимаемость гипотезы H₀ в зависимости от размера выборки</a></span><ul class=\"toc-item\"><li><span><a href=\"#Построение-списка-размеров-выборок\" data-toc-modified-id=\"Построение-списка-размеров-выборок-3.1\"><span class=\"toc-item-num\">3.1&nbsp;&nbsp;</span>Построение списка размеров выборок</a></span></li><li><span><a href=\"#Построение-массива-p-value-для-выборок-разного-размера-в-50-проходок-для-каждого\" data-toc-modified-id=\"Построение-массива-p-value-для-выборок-разного-размера-в-50-проходок-для-каждого-3.2\"><span class=\"toc-item-num\">3.2&nbsp;&nbsp;</span>Построение массива p-value для выборок разного размера в 50 проходок для каждого</a></span></li><li><span><a href=\"#Построение-массива-средних-значение-p-value-по-всем-выборкам\" data-toc-modified-id=\"Построение-массива-средних-значение-p-value-по-всем-выборкам-3.3\"><span class=\"toc-item-num\">3.3&nbsp;&nbsp;</span>Построение массива средних значение p-value по всем выборкам</a></span></li><li><span><a href=\"#Построение-графика-зависимости-усредненного-p_value-от-размера-выборки\" data-toc-modified-id=\"Построение-графика-зависимости-усредненного-p_value-от-размера-выборки-3.4\"><span class=\"toc-item-num\">3.4&nbsp;&nbsp;</span>Построение графика зависимости усредненного p_value от размера выборки</a></span></li></ul></li></ul></div>"
   ]
  },
  {
   "cell_type": "code",
   "execution_count": 2,
   "id": "3d32748a",
   "metadata": {},
   "outputs": [],
   "source": [
    "import pandas as pd\n",
    "import seaborn as sns\n",
    "import matplotlib.pyplot as plt\n",
    "import numpy as np\n",
    "from scipy.stats import ttest_ind\n",
    "from scipy.stats import ttest_1samp"
   ]
  },
  {
   "cell_type": "code",
   "execution_count": 3,
   "id": "b145a2e7",
   "metadata": {
    "scrolled": true
   },
   "outputs": [
    {
     "data": {
      "text/html": [
       "<div>\n",
       "<style scoped>\n",
       "    .dataframe tbody tr th:only-of-type {\n",
       "        vertical-align: middle;\n",
       "    }\n",
       "\n",
       "    .dataframe tbody tr th {\n",
       "        vertical-align: top;\n",
       "    }\n",
       "\n",
       "    .dataframe thead th {\n",
       "        text-align: right;\n",
       "    }\n",
       "</style>\n",
       "<table border=\"1\" class=\"dataframe\">\n",
       "  <thead>\n",
       "    <tr style=\"text-align: right;\">\n",
       "      <th></th>\n",
       "      <th>CREDIT1</th>\n",
       "      <th>CREDIT2</th>\n",
       "    </tr>\n",
       "  </thead>\n",
       "  <tbody>\n",
       "    <tr>\n",
       "      <th>0</th>\n",
       "      <td>125000</td>\n",
       "      <td>100000</td>\n",
       "    </tr>\n",
       "    <tr>\n",
       "      <th>1</th>\n",
       "      <td>100000</td>\n",
       "      <td>150000</td>\n",
       "    </tr>\n",
       "    <tr>\n",
       "      <th>2</th>\n",
       "      <td>75000</td>\n",
       "      <td>100000</td>\n",
       "    </tr>\n",
       "    <tr>\n",
       "      <th>3</th>\n",
       "      <td>100000</td>\n",
       "      <td>100000</td>\n",
       "    </tr>\n",
       "    <tr>\n",
       "      <th>4</th>\n",
       "      <td>150000</td>\n",
       "      <td>100000</td>\n",
       "    </tr>\n",
       "  </tbody>\n",
       "</table>\n",
       "</div>"
      ],
      "text/plain": [
       "   CREDIT1  CREDIT2\n",
       "0   125000   100000\n",
       "1   100000   150000\n",
       "2    75000   100000\n",
       "3   100000   100000\n",
       "4   150000   100000"
      ]
     },
     "execution_count": 3,
     "metadata": {},
     "output_type": "execute_result"
    }
   ],
   "source": [
    "df = pd.read_csv('Кредиты.csv', sep = ';')\n",
    "df.head(5)"
   ]
  },
  {
   "cell_type": "markdown",
   "id": "370ac198",
   "metadata": {},
   "source": [
    "### Функция для нахождения двухвыборочного t-критерия и p_value."
   ]
  },
  {
   "cell_type": "code",
   "execution_count": 4,
   "id": "adafa36f",
   "metadata": {},
   "outputs": [],
   "source": [
    "def two_sample_ttest (a, b, alfa=0.05):\n",
    "    \"\"\"Рассчитывает T-статистику для средних значений двух независимых выборок.\n",
    "    \n",
    "    Parameters\n",
    "    ----------\n",
    "    a, b: array_like\n",
    "        Массивы сравниваемых выборок.\n",
    "    alfa: float\n",
    "        Значение статистического критерия. \n",
    "        \n",
    "    Returns\n",
    "    -------\n",
    "    statistic: float or array\n",
    "        Вычисленная t-статистика.\n",
    "    pvalue: float or array\n",
    "        Вычисленная p-value.\n",
    "    alfa: float\n",
    "        Значение статистического критерия из условия.\n",
    "    \"\"\"\n",
    "    #Calculate the T-test for the means of two independent samples of scores.\n",
    "    s,p = ttest_ind(a, b)\n",
    "\n",
    "    #Printing of conclusions\n",
    "    if p > alfa:\n",
    "        print('Нулевая гипотеза о равенстве средних принимается')\n",
    "    else:\n",
    "        print('Нулевая гипотеза о равенстве средних отвергается\\\n",
    "            \\nв пользу гипотезы, что они не равны\\n')\n",
    "        \n",
    "    #Returning required values from functions   \n",
    "    return print(f' s= {s}, p={p}, alfa={alfa}')"
   ]
  },
  {
   "cell_type": "markdown",
   "id": "05138e5d",
   "metadata": {},
   "source": [
    "p-value - вероятность того, что разница между двумя выборками случайна"
   ]
  },
  {
   "cell_type": "markdown",
   "id": "ee78e02f",
   "metadata": {},
   "source": [
    "### Проверка нулевой гипотезы о равенстве двух выборок"
   ]
  },
  {
   "cell_type": "code",
   "execution_count": 5,
   "id": "3cd03b5a",
   "metadata": {
    "scrolled": false
   },
   "outputs": [
    {
     "name": "stdout",
     "output_type": "stream",
     "text": [
      "Нулевая гипотеза о равенстве средних отвергается            \n",
      "в пользу гипотезы, что они не равны\n",
      "\n",
      " s= -2.1378360559262917, p=0.032675385935666205, alfa=0.05\n"
     ]
    }
   ],
   "source": [
    "two_sample_ttest(df['CREDIT1'],df['CREDIT2'])"
   ]
  },
  {
   "cell_type": "markdown",
   "id": "984d6512",
   "metadata": {},
   "source": [
    "### Принимаемость гипотезы H₀ в зависимости от размера выборки"
   ]
  },
  {
   "cell_type": "markdown",
   "id": "66b459b3",
   "metadata": {},
   "source": [
    "#### Построение списка размеров выборок"
   ]
  },
  {
   "cell_type": "code",
   "execution_count": 6,
   "id": "799031c2",
   "metadata": {
    "code_folding": [],
    "scrolled": true
   },
   "outputs": [
    {
     "name": "stdout",
     "output_type": "stream",
     "text": [
      "размеры выборок из массивов:\n",
      "samples = [200, 250, 300, 350, 400, 450, 500, 550, 600, 650, 700, 750, 800, 833]\n"
     ]
    }
   ],
   "source": [
    "# Список с размерами выборок\n",
    "\n",
    "samples = []\n",
    "i = 200\n",
    "while i < len(df):\n",
    "    samples.append(i)\n",
    "    i += 50\n",
    "samples.append(len(df))\n",
    "print('размеры выборок из массивов:\\nsamples =', samples)"
   ]
  },
  {
   "cell_type": "markdown",
   "id": "27e2ca57",
   "metadata": {},
   "source": [
    "#### Построение массива p-value для выборок разного размера в 50 проходок для каждого"
   ]
  },
  {
   "cell_type": "code",
   "execution_count": 7,
   "id": "17f3fcc3",
   "metadata": {
    "scrolled": false
   },
   "outputs": [
    {
     "data": {
      "text/html": [
       "<div>\n",
       "<style scoped>\n",
       "    .dataframe tbody tr th:only-of-type {\n",
       "        vertical-align: middle;\n",
       "    }\n",
       "\n",
       "    .dataframe tbody tr th {\n",
       "        vertical-align: top;\n",
       "    }\n",
       "\n",
       "    .dataframe thead th {\n",
       "        text-align: right;\n",
       "    }\n",
       "</style>\n",
       "<table border=\"1\" class=\"dataframe\">\n",
       "  <thead>\n",
       "    <tr style=\"text-align: right;\">\n",
       "      <th></th>\n",
       "      <th>sample_size</th>\n",
       "      <th>p_value</th>\n",
       "      <th>try</th>\n",
       "    </tr>\n",
       "  </thead>\n",
       "  <tbody>\n",
       "    <tr>\n",
       "      <th>0</th>\n",
       "      <td>200</td>\n",
       "      <td>0.46974</td>\n",
       "      <td>1</td>\n",
       "    </tr>\n",
       "    <tr>\n",
       "      <th>1</th>\n",
       "      <td>200</td>\n",
       "      <td>0.670609</td>\n",
       "      <td>2</td>\n",
       "    </tr>\n",
       "    <tr>\n",
       "      <th>2</th>\n",
       "      <td>200</td>\n",
       "      <td>0.087819</td>\n",
       "      <td>3</td>\n",
       "    </tr>\n",
       "    <tr>\n",
       "      <th>3</th>\n",
       "      <td>200</td>\n",
       "      <td>0.953424</td>\n",
       "      <td>4</td>\n",
       "    </tr>\n",
       "    <tr>\n",
       "      <th>4</th>\n",
       "      <td>200</td>\n",
       "      <td>0.165857</td>\n",
       "      <td>5</td>\n",
       "    </tr>\n",
       "    <tr>\n",
       "      <th>...</th>\n",
       "      <td>...</td>\n",
       "      <td>...</td>\n",
       "      <td>...</td>\n",
       "    </tr>\n",
       "    <tr>\n",
       "      <th>695</th>\n",
       "      <td>833</td>\n",
       "      <td>0.032675</td>\n",
       "      <td>46</td>\n",
       "    </tr>\n",
       "    <tr>\n",
       "      <th>696</th>\n",
       "      <td>833</td>\n",
       "      <td>0.032675</td>\n",
       "      <td>47</td>\n",
       "    </tr>\n",
       "    <tr>\n",
       "      <th>697</th>\n",
       "      <td>833</td>\n",
       "      <td>0.032675</td>\n",
       "      <td>48</td>\n",
       "    </tr>\n",
       "    <tr>\n",
       "      <th>698</th>\n",
       "      <td>833</td>\n",
       "      <td>0.032675</td>\n",
       "      <td>49</td>\n",
       "    </tr>\n",
       "    <tr>\n",
       "      <th>699</th>\n",
       "      <td>833</td>\n",
       "      <td>0.032675</td>\n",
       "      <td>50</td>\n",
       "    </tr>\n",
       "  </tbody>\n",
       "</table>\n",
       "<p>700 rows × 3 columns</p>\n",
       "</div>"
      ],
      "text/plain": [
       "    sample_size   p_value try\n",
       "0           200   0.46974   1\n",
       "1           200  0.670609   2\n",
       "2           200  0.087819   3\n",
       "3           200  0.953424   4\n",
       "4           200  0.165857   5\n",
       "..          ...       ...  ..\n",
       "695         833  0.032675  46\n",
       "696         833  0.032675  47\n",
       "697         833  0.032675  48\n",
       "698         833  0.032675  49\n",
       "699         833  0.032675  50\n",
       "\n",
       "[700 rows x 3 columns]"
      ]
     },
     "execution_count": 7,
     "metadata": {},
     "output_type": "execute_result"
    }
   ],
   "source": [
    "# Датафрейм: p-value для выборок разного размера в 50 проходок для каждого\n",
    "\n",
    "df_res = pd.DataFrame(columns=['sample_size', 'p_value', 'try'])\n",
    "\n",
    "# Проходим по размерам выборок\n",
    "for i in samples:\n",
    "        \n",
    "        # Проходим каждый размер по 50 раз\n",
    "        for number in range(1, 51, 1):\n",
    "            \n",
    "            s,p = ttest_ind(df['CREDIT1'].sample(i),df['CREDIT2'].sample(i))\n",
    "            new_row = pd.DataFrame(data = [{'sample_size' : i,\n",
    "                                            'p_value' : p,\n",
    "                                            'try' : number}])\n",
    "\n",
    "            df_res = pd.concat([df_res, new_row], axis=0, ignore_index=True)\n",
    "    \n",
    "df_res"
   ]
  },
  {
   "cell_type": "markdown",
   "id": "b006c747",
   "metadata": {},
   "source": [
    "#### Построение массива средних значение p-value по всем выборкам"
   ]
  },
  {
   "cell_type": "code",
   "execution_count": 8,
   "id": "c0a7b82e",
   "metadata": {
    "scrolled": true
   },
   "outputs": [
    {
     "data": {
      "text/plain": [
       "sample_size\n",
       "200    0.362594\n",
       "250    0.255571\n",
       "300    0.343138\n",
       "350    0.238923\n",
       "400    0.203017\n",
       "450    0.224421\n",
       "500    0.118196\n",
       "550    0.125001\n",
       "600    0.104960\n",
       "650    0.095053\n",
       "700    0.063533\n",
       "750    0.050526\n",
       "800    0.042183\n",
       "833    0.032675\n",
       "Name: p_value, dtype: float64"
      ]
     },
     "execution_count": 8,
     "metadata": {},
     "output_type": "execute_result"
    }
   ],
   "source": [
    "# Среднее значение p-value по всем попыткам для выборок разного размера\n",
    "\n",
    "df_gr = df_res.groupby(by='sample_size')['p_value'].mean()\n",
    "df_gr                     "
   ]
  },
  {
   "cell_type": "markdown",
   "id": "3bb843d1",
   "metadata": {},
   "source": [
    "#### Построение графика зависимости усредненного p_value от размера выборки"
   ]
  },
  {
   "cell_type": "code",
   "execution_count": 15,
   "id": "263f04a9",
   "metadata": {
    "scrolled": false
   },
   "outputs": [
    {
     "data": {
      "image/png": "[encoded data removed]",
      "text/plain": [
       "<Figure size 720x360 with 1 Axes>"
      ]
     },
     "metadata": {},
     "output_type": "display_data"
    }
   ],
   "source": [
    "with sns.axes_style(\"darkgrid\"):\n",
    "    plt.figure(figsize=(10,5))\n",
    "    sns.lineplot(data = df_gr)\n",
    "    plt.hlines(0.05, # отрисуем линию на уровне критерия значимости\n",
    "               xmin = 200, \n",
    "               xmax = 850, \n",
    "               linestyles= '--', \n",
    "               colors = 'red',\n",
    "               label = 'p-value')\n",
    "    plt.title('Зависимость усредненного p_value от размера выборки')\n",
    "    plt.ylabel('Mean p_value')\n",
    "    plt.xlabel('Sample size')\n",
    "plt.legend()\n",
    "plt.show()"
   ]
  },
  {
   "cell_type": "markdown",
   "id": "624703e8",
   "metadata": {},
   "source": [
    "<div class=\"alert alert-block alert-warning\"> \n",
    "При увеличении количества экспериментов среднее p-value уменьшается и только при размере выборки в районе 750 преодалевает критерий значимости, который установлен в 5%.  \n",
    "    \n",
    "Т.е. при числе экспериментов примерно до 750 нулевая гипотеза принимается и мы говорим, что средние значения двух независимых выборок равны, а при большем количестве экспериментов - что не равны.\n",
    "</div>"
   ]
  }
 ],
 "metadata": {
  "kernelspec": {
   "display_name": "Python 3 (ipykernel)",
   "language": "python",
   "name": "python3"
  },
  "language_info": {
   "codemirror_mode": {
    "name": "ipython",
    "version": 3
   },
   "file_extension": ".py",
   "mimetype": "text/x-python",
   "name": "python",
   "nbconvert_exporter": "python",
   "pygments_lexer": "ipython3",
   "version": "3.9.10"
  },
  "toc": {
   "base_numbering": 1,
   "nav_menu": {},
   "number_sections": true,
   "sideBar": true,
   "skip_h1_title": true,
   "title_cell": "Table of Contents",
   "title_sidebar": "Contents",
   "toc_cell": true,
   "toc_position": {},
   "toc_section_display": true,
   "toc_window_display": false
  }
 },
 "nbformat": 4,
 "nbformat_minor": 5
}
