{
 "cells": [
  {
   "cell_type": "markdown",
   "id": "b29d9f5d",
   "metadata": {
    "id": "b29d9f5d"
   },
   "source": [
    "<div class=\"alert alert-block alert-success\">  \n",
    "<h2>Задания 02 - «Управляющие конструкции и коллекции» часть 1</h2>\n",
    "</div>"
   ]
  },
  {
   "cell_type": "markdown",
   "id": "7a4f5aa5",
   "metadata": {
    "id": "7a4f5aa5"
   },
   "source": [
    "---\n",
    "\n",
    "## Задание 1\n",
    "\n",
    "Дана переменная, в которой хранится слово из латинских букв. Напишите код, который выводит на экран:\n",
    "\n",
    "- среднюю букву, если число букв в слове нечетное;\n",
    "- две средних буквы, если число букв четное.\n",
    "\n",
    "#### Примеры работы программы:\n",
    "\n",
    "```python\n",
    "word = 'test'\n",
    "```\n",
    "\n",
    ">***Результат:***  \n",
    "`es`\n",
    "\n",
    "\n",
    "```python\n",
    "word = 'testing'\n",
    "```\n",
    "\n",
    ">***Результат:***  \n",
    "`t`  "
   ]
  },
  {
   "cell_type": "code",
   "execution_count": 1,
   "id": "3a1d0973",
   "metadata": {},
   "outputs": [
    {
     "name": "stdout",
     "output_type": "stream",
     "text": [
      "t\n"
     ]
    }
   ],
   "source": [
    "word = 'testing'\n",
    "half = len(word) // 2     # целая часть от деления\n",
    "fraction = len(word) % 2  # дробная часть от деления\n",
    "\n",
    "if fraction == 0:\n",
    "    letters = word[half - 1:half + 1]\n",
    "else:\n",
    "    letters = word[half:half + 1]\n",
    "\n",
    "print(letters)"
   ]
  },
  {
   "cell_type": "markdown",
   "id": "01c630dd",
   "metadata": {
    "id": "01c630dd"
   },
   "source": [
    "---\n",
    "## Задание 2\n",
    "\n",
    "Напишите программу, которая последовательно запрашивает у пользователя числа (по одному за раз) и после первого нуля выводит сумму всех ранее введенных чисел.\n",
    "\n",
    "#### Примеры работы программы:\n",
    "\n",
    "```python\n",
    "Введите число:\n",
    "1\n",
    "\n",
    "Введите число:\n",
    "4\n",
    "\n",
    "Введите число:\n",
    "6\n",
    "\n",
    "Введите число:\n",
    "0\n",
    "```\n",
    "\n",
    ">***Результат:***  \n",
    "11\n",
    "\n",
    "```python\n",
    "Введите число:\n",
    "0\n",
    "```\n",
    "\n",
    ">***Результат:***  \n",
    "`0`"
   ]
  },
  {
   "cell_type": "code",
   "execution_count": 2,
   "id": "613dd7f6",
   "metadata": {},
   "outputs": [
    {
     "name": "stdout",
     "output_type": "stream",
     "text": [
      "Введите число:1\n",
      "Введите число:4\n",
      "Введите число:6\n",
      "Введите число:0\n",
      "11\n"
     ]
    }
   ],
   "source": [
    "number = 0\n",
    "input_number = int(input('Введите число:'))\n",
    "while input_number != 0:\n",
    "    number += input_number\n",
    "    input_number = int(input('Введите число:'))\n",
    "print(number)"
   ]
  },
  {
   "cell_type": "markdown",
   "id": "onuWSBoWNxfm",
   "metadata": {
    "id": "onuWSBoWNxfm"
   },
   "source": [
    "---\n",
    "## Задание 3\n",
    "\n",
    "Мы делаем [MVP](https://ru.wikipedia.org/wiki/Минимально_жизнеспособный_продукт) dating-сервиса, и у нас есть список парней и девушек.\n",
    "Выдвигаем гипотезу: лучшие рекомендации мы получим, если просто отсортируем имена по алфавиту и познакомим людей с одинаковыми индексами после сортировки! Но мы не будем никого знакомить, если кто-то может остаться без пары:\n",
    "\n",
    "#### Примеры работы программы:\n",
    "\n",
    "```python\n",
    "boys = ['Peter', 'Alex', 'John', 'Arthur', 'Richard']\n",
    "girls = ['Kate', 'Liza', 'Kira', 'Emma', 'Trisha']\n",
    "```\n",
    "\n",
    ">***Результат:***  \n",
    "`Идеальные пары:`  \n",
    "`Alex и Emma`  \n",
    "`Arthur и Kate`  \n",
    "`John и Kira`  \n",
    "`Peter и Liza`  \n",
    "`Richard и Trisha`\n",
    "\n",
    "```python\n",
    "boys = ['Peter', 'Alex', 'John', 'Arthur', 'Richard', 'Michael']\n",
    "girls = ['Kate', 'Liza', 'Kira', 'Emma', 'Trisha']\n",
    "```\n",
    "\n",
    ">***Результат:***  \n",
    "`Внимание, кто-то может остаться без пары!`"
   ]
  },
  {
   "cell_type": "code",
   "execution_count": 3,
   "id": "e274e8e0",
   "metadata": {},
   "outputs": [],
   "source": [
    "boys = ['Peter', 'Alex', 'John', 'Arthur', 'Richard']\n",
    "girls = ['Kate', 'Liza', 'Kira', 'Emma', 'Trisha']"
   ]
  },
  {
   "cell_type": "code",
   "execution_count": 4,
   "id": "536d264a",
   "metadata": {},
   "outputs": [
    {
     "name": "stdout",
     "output_type": "stream",
     "text": [
      "Идеальные пары:\n",
      "[('Alex', 'Emma'), ('Arthur', 'Kate'), ('John', 'Kira'), ('Peter', 'Liza'), ('Richard', 'Trisha')]\n"
     ]
    }
   ],
   "source": [
    "if len(boys) == len(girls):\n",
    "    pair = zip(sorted(boys), sorted(girls))\n",
    "    print(f'Идеальные пары:\\n{list(pair)}')\n",
    "else:\n",
    "    print('Внимание, кто-то может остаться без пары!')"
   ]
  },
  {
   "cell_type": "markdown",
   "id": "NXHiIohycBoc",
   "metadata": {
    "id": "NXHiIohycBoc"
   },
   "source": [
    "---\n",
    "## Задание 4\n",
    "\n",
    "У нас есть список, содержащий информацию о среднедневной температуре в Фаренгейтах за произвольный период по странам (структура данных в примере). Необходимо написать код, который рассчитает среднюю температуру за период в Цельсиях(!) для каждой страны.\n",
    "\n",
    "#### Пример работы программы:\n",
    "\n",
    "```python\n",
    "countries_temperature = [\n",
    "    ['Thailand', [75.2, 77, 78.8, 73.4, 68, 75.2, 77]],\n",
    "    ['Germany', [57.2, 55.4, 59, 59, 53.6]],\n",
    "    ['Russia', [35.6, 37.4, 39.2, 41, 42.8, 39.2, 35.6]],\n",
    "    ['Poland', [50, 50, 53.6, 57.2, 55.4, 55.4]]\n",
    "]\n",
    "```\n",
    "\n",
    ">***Результат:***  \n",
    "`Средняя температура в странах:`  \n",
    "`Thailand  -  23.9 С`  \n",
    "`Germany  -  13.8 С`  \n",
    "`Russia  -  3.7 С`  \n",
    "`Poland  -  12.0 С`  "
   ]
  },
  {
   "cell_type": "code",
   "execution_count": 5,
   "id": "c75a969e",
   "metadata": {},
   "outputs": [],
   "source": [
    "countries_temperature = [\n",
    "    ['Thailand', [75.2, 77, 78.8, 73.4, 68, 75.2, 77]],\n",
    "    ['Germany', [57.2, 55.4, 59, 59, 53.6]],\n",
    "    ['Russia', [35.6, 37.4, 39.2, 41, 42.8, 39.2, 35.6]],\n",
    "    ['Poland', [50, 50, 53.6, 57.2, 55.4, 55.4]]\n",
    "]"
   ]
  },
  {
   "cell_type": "markdown",
   "id": "e5f30b9c",
   "metadata": {},
   "source": [
    "Формула перевода Фаренгейта (°F) в Цельсий (°C)  \n",
    "$t_{C} = \\dfrac{5}{9}(t_{F} - 32)$  "
   ]
  },
  {
   "cell_type": "code",
   "execution_count": 6,
   "id": "8aa7fcee",
   "metadata": {},
   "outputs": [
    {
     "name": "stdout",
     "output_type": "stream",
     "text": [
      "Средняя температура в странах:\n",
      "Thailand - 23.9\n",
      "Germany - 13.8\n",
      "Russia - 3.7\n",
      "Poland - 12.0\n"
     ]
    }
   ],
   "source": [
    "print('Средняя температура в странах:')\n",
    "for l in countries_temperature:\n",
    "    value_avg = 5 / 9 * (sum(l[1]) / len(l[1]) - 32)\n",
    "    print(f'{l[0]} - {round(value_avg, 1)}')"
   ]
  },
  {
   "cell_type": "markdown",
   "id": "2205d499",
   "metadata": {},
   "source": [
    "---\n",
    "\n",
    "## Задание 5 (необязательное)\n",
    "\n",
    "Дан поток логов по количеству просмотренных страниц для каждого пользователя. Вам необходимо написать алгоритм, который считает среднее значение просмотров на пользователя. Т. е. надо посчитать отношение суммы всех просмотров к количеству уникальных пользователей.\n",
    "\n",
    "#### Примеры работы программы:\n",
    "\n",
    "```python\n",
    "stream = [\n",
    "    '2018-01-01,user1,3',\n",
    "    '2018-01-07,user1,4',\n",
    "    '2018-03-29,user1,1',\n",
    "    '2018-04-04,user1,13',\n",
    "    '2018-01-05,user2,7',\n",
    "    '2018-06-14,user3,4',\n",
    "    '2018-07-02,user3,10',\n",
    "    '2018-03-21,user4,19',\n",
    "    '2018-03-22,user4,4',\n",
    "    '2018-04-22,user4,8',\n",
    "    '2018-05-03,user4,9',\n",
    "    '2018-05-11,user4,11',\n",
    "]\n",
    "```\n",
    "\n",
    ">***Результат:***  \n",
    "`Среднее количество просмотров на уникального пользователя: 23.25`\n",
    "\n",
    "```python\n",
    "stream = [\n",
    "    '2018-01-01,user100,150',\n",
    "    '2018-01-07,user99,205',\n",
    "    '2018-03-29,user1001,81'\n",
    "]\n",
    "```\n",
    "\n",
    ">***Результат:***  \n",
    "`Среднее количество просмотров на уникального пользователя: 145.33`"
   ]
  },
  {
   "cell_type": "markdown",
   "id": "8df7c47f",
   "metadata": {},
   "source": [
    "---\n",
    "\n",
    "## Задание 6 (необязательное)\n",
    "\n",
    "Необходимо у пользователя запрашивать набор чисел разделенных пробелом. В результате в отсортированном порядке должны выводиться числа, которые повторяются в вводе более одного раза.\n",
    "\n",
    "#### Примеры работы программы:\n",
    "\n",
    "```python\n",
    "Введите числа:\n",
    "4 8 0 3 4 2 0 3\n",
    "```\n",
    "\n",
    ">***Результат:***  \n",
    "`0 3 4`\n",
    "\n",
    "```python\n",
    "Введите числа:\n",
    "1 1 2 2 3 3\n",
    "```\n",
    "\n",
    ">***Результат:***  \n",
    "`1 2 3`\n",
    "\n",
    "```python\n",
    "Введите числа:\n",
    "10 15 15 103 200 200 200 1 1 1 1 1 2 2 2\n",
    "```\n",
    "\n",
    ">***Результат:***  \n",
    "`1 2 15 200`"
   ]
  }
 ],
 "metadata": {
  "colab": {
   "collapsed_sections": [],
   "name": "01_DA_PCS_ADD_homework.ipynb",
   "provenance": []
  },
  "kernelspec": {
   "display_name": "Python 3 (ipykernel)",
   "language": "python",
   "name": "python3"
  },
  "language_info": {
   "codemirror_mode": {
    "name": "ipython",
    "version": 3
   },
   "file_extension": ".py",
   "mimetype": "text/x-python",
   "name": "python",
   "nbconvert_exporter": "python",
   "pygments_lexer": "ipython3",
   "version": "3.9.10"
  }
 },
 "nbformat": 4,
 "nbformat_minor": 5
}
